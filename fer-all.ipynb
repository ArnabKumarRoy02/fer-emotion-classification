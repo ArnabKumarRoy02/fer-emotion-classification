{
 "cells": [
  {
   "cell_type": "code",
   "execution_count": 1,
   "metadata": {},
   "outputs": [],
   "source": [
    "import os\n",
    "import cv2\n",
    "import time\n",
    "import pandas as pd\n",
    "import numpy as np\n",
    "from skimage import feature\n",
    "from sklearn import preprocessing\n",
    "import matplotlib.pyplot as plt\n",
    "from sklearn.preprocessing import MinMaxScaler\n",
    "from sklearn.ensemble import RandomForestClassifier\n",
    "from sklearn.tree import DecisionTreeClassifier\n",
    "from sklearn.ensemble import GradientBoostingClassifier"
   ]
  },
  {
   "cell_type": "code",
   "execution_count": 2,
   "metadata": {},
   "outputs": [
    {
     "data": {
      "text/plain": [
       "(48, 48)"
      ]
     },
     "execution_count": 2,
     "metadata": {},
     "output_type": "execute_result"
    }
   ],
   "source": [
    "image = cv2.imread('fer-2013/test/angry/PrivateTest_1623042.jpg', 0)\n",
    "image.shape"
   ]
  },
  {
   "cell_type": "code",
   "execution_count": 3,
   "metadata": {},
   "outputs": [],
   "source": [
    "# Function to read data from folder\n",
    "def read_data(path: str):\n",
    "    data_path = []\n",
    "    labels = []\n",
    "    for dirname, name, filenames in os.walk('fer-2013/' + path):\n",
    "        for filename in filenames:\n",
    "            data_path.append(os.path.join(dirname, filename))\n",
    "            labels.append(dirname.split('/')[-1])\n",
    "    return data_path, labels"
   ]
  },
  {
   "cell_type": "code",
   "execution_count": 4,
   "metadata": {},
   "outputs": [],
   "source": [
    "X_train_path, label_train = read_data('train')\n",
    "X_test_path, label_test = read_data('test')"
   ]
  },
  {
   "cell_type": "code",
   "execution_count": 5,
   "metadata": {},
   "outputs": [],
   "source": [
    "df_train = pd.DataFrame(\n",
    "    {'X_train': X_train_path,\n",
    "     'y_train' :label_train}\n",
    ")"
   ]
  },
  {
   "cell_type": "code",
   "execution_count": 6,
   "metadata": {},
   "outputs": [
    {
     "data": {
      "text/html": [
       "<div>\n",
       "<style scoped>\n",
       "    .dataframe tbody tr th:only-of-type {\n",
       "        vertical-align: middle;\n",
       "    }\n",
       "\n",
       "    .dataframe tbody tr th {\n",
       "        vertical-align: top;\n",
       "    }\n",
       "\n",
       "    .dataframe thead th {\n",
       "        text-align: right;\n",
       "    }\n",
       "</style>\n",
       "<table border=\"1\" class=\"dataframe\">\n",
       "  <thead>\n",
       "    <tr style=\"text-align: right;\">\n",
       "      <th></th>\n",
       "      <th>X_train</th>\n",
       "      <th>y_train</th>\n",
       "    </tr>\n",
       "  </thead>\n",
       "  <tbody>\n",
       "    <tr>\n",
       "      <th>0</th>\n",
       "      <td>fer-2013/train/happy/Training_50449107.jpg</td>\n",
       "      <td>happy</td>\n",
       "    </tr>\n",
       "    <tr>\n",
       "      <th>1</th>\n",
       "      <td>fer-2013/train/happy/Training_70433018.jpg</td>\n",
       "      <td>happy</td>\n",
       "    </tr>\n",
       "    <tr>\n",
       "      <th>2</th>\n",
       "      <td>fer-2013/train/happy/Training_85610005.jpg</td>\n",
       "      <td>happy</td>\n",
       "    </tr>\n",
       "    <tr>\n",
       "      <th>3</th>\n",
       "      <td>fer-2013/train/happy/Training_4460748.jpg</td>\n",
       "      <td>happy</td>\n",
       "    </tr>\n",
       "    <tr>\n",
       "      <th>4</th>\n",
       "      <td>fer-2013/train/happy/Training_6312930.jpg</td>\n",
       "      <td>happy</td>\n",
       "    </tr>\n",
       "  </tbody>\n",
       "</table>\n",
       "</div>"
      ],
      "text/plain": [
       "                                      X_train y_train\n",
       "0  fer-2013/train/happy/Training_50449107.jpg   happy\n",
       "1  fer-2013/train/happy/Training_70433018.jpg   happy\n",
       "2  fer-2013/train/happy/Training_85610005.jpg   happy\n",
       "3   fer-2013/train/happy/Training_4460748.jpg   happy\n",
       "4   fer-2013/train/happy/Training_6312930.jpg   happy"
      ]
     },
     "execution_count": 6,
     "metadata": {},
     "output_type": "execute_result"
    }
   ],
   "source": [
    "df_train.head()"
   ]
  },
  {
   "cell_type": "code",
   "execution_count": 7,
   "metadata": {},
   "outputs": [],
   "source": [
    "name_train, frequency_train = np.unique(df_train.y_train,return_counts=True)"
   ]
  },
  {
   "cell_type": "code",
   "execution_count": 8,
   "metadata": {},
   "outputs": [],
   "source": [
    "df_test = pd.DataFrame({\n",
    "    'X_test':X_test_path,\n",
    "    'y_test' :label_test}\n",
    ")"
   ]
  },
  {
   "cell_type": "code",
   "execution_count": 9,
   "metadata": {},
   "outputs": [
    {
     "data": {
      "text/html": [
       "<div>\n",
       "<style scoped>\n",
       "    .dataframe tbody tr th:only-of-type {\n",
       "        vertical-align: middle;\n",
       "    }\n",
       "\n",
       "    .dataframe tbody tr th {\n",
       "        vertical-align: top;\n",
       "    }\n",
       "\n",
       "    .dataframe thead th {\n",
       "        text-align: right;\n",
       "    }\n",
       "</style>\n",
       "<table border=\"1\" class=\"dataframe\">\n",
       "  <thead>\n",
       "    <tr style=\"text-align: right;\">\n",
       "      <th></th>\n",
       "      <th>X_test</th>\n",
       "      <th>y_test</th>\n",
       "    </tr>\n",
       "  </thead>\n",
       "  <tbody>\n",
       "    <tr>\n",
       "      <th>0</th>\n",
       "      <td>fer-2013/test/happy/PrivateTest_45699463.jpg</td>\n",
       "      <td>happy</td>\n",
       "    </tr>\n",
       "    <tr>\n",
       "      <th>1</th>\n",
       "      <td>fer-2013/test/happy/PrivateTest_61855708.jpg</td>\n",
       "      <td>happy</td>\n",
       "    </tr>\n",
       "    <tr>\n",
       "      <th>2</th>\n",
       "      <td>fer-2013/test/happy/PublicTest_53681781.jpg</td>\n",
       "      <td>happy</td>\n",
       "    </tr>\n",
       "    <tr>\n",
       "      <th>3</th>\n",
       "      <td>fer-2013/test/happy/PrivateTest_52109800.jpg</td>\n",
       "      <td>happy</td>\n",
       "    </tr>\n",
       "    <tr>\n",
       "      <th>4</th>\n",
       "      <td>fer-2013/test/happy/PublicTest_41104919.jpg</td>\n",
       "      <td>happy</td>\n",
       "    </tr>\n",
       "  </tbody>\n",
       "</table>\n",
       "</div>"
      ],
      "text/plain": [
       "                                         X_test y_test\n",
       "0  fer-2013/test/happy/PrivateTest_45699463.jpg  happy\n",
       "1  fer-2013/test/happy/PrivateTest_61855708.jpg  happy\n",
       "2   fer-2013/test/happy/PublicTest_53681781.jpg  happy\n",
       "3  fer-2013/test/happy/PrivateTest_52109800.jpg  happy\n",
       "4   fer-2013/test/happy/PublicTest_41104919.jpg  happy"
      ]
     },
     "execution_count": 9,
     "metadata": {},
     "output_type": "execute_result"
    }
   ],
   "source": [
    "df_test.head()"
   ]
  },
  {
   "cell_type": "code",
   "execution_count": 10,
   "metadata": {},
   "outputs": [
    {
     "data": {
      "text/plain": [
       "<matplotlib.legend.Legend at 0x28b09a8f0>"
      ]
     },
     "execution_count": 10,
     "metadata": {},
     "output_type": "execute_result"
    },
    {
     "data": {
      "image/png": "[encoded data removed]",
      "text/plain": [
       "<Figure size 640x480 with 1 Axes>"
      ]
     },
     "metadata": {},
     "output_type": "display_data"
    }
   ],
   "source": [
    "name_test, frequency_test = np.unique(df_test.y_test, return_counts=True)\n",
    "plt.bar(name_train, frequency_train)\n",
    "plt.bar(name_test, frequency_test, bottom=frequency_train, color='orange')\n",
    "plt.xlabel(\"Emotions\")\n",
    "plt.ylabel(\"Train and Test data\")\n",
    "plt.legend([\"Train\", \"Test\"])"
   ]
  },
  {
   "cell_type": "code",
   "execution_count": 11,
   "metadata": {},
   "outputs": [
    {
     "data": {
      "text/plain": [
       "y_train\n",
       "happy       7215\n",
       "neutral     4965\n",
       "sad         4830\n",
       "fear        4097\n",
       "angry       3995\n",
       "surprise    3171\n",
       "disgust      436\n",
       "Name: count, dtype: int64"
      ]
     },
     "execution_count": 11,
     "metadata": {},
     "output_type": "execute_result"
    }
   ],
   "source": [
    "# The above plot shows that the data is unbalanced. The data has many samples for happy but very few for disgust.\n",
    "# Hence, we need to balance the data.\n",
    "df_train.y_train.value_counts()"
   ]
  },
  {
   "cell_type": "code",
   "execution_count": 12,
   "metadata": {},
   "outputs": [],
   "source": [
    "le = preprocessing.LabelEncoder()"
   ]
  },
  {
   "cell_type": "code",
   "execution_count": 13,
   "metadata": {},
   "outputs": [],
   "source": [
    "def extract_HOG_features(X):\n",
    "    X_train = []\n",
    "    for i in X:\n",
    "        img = cv2.imread(i, 0)\n",
    "        gauss = img\n",
    "        X_train.append(feature.hog(gauss, orientations=5, pixels_per_cell=(8, 8),\n",
    "                        cells_per_block=(4, 4), transform_sqrt=True, block_norm=\"L2\"))\n",
    "    return X_train"
   ]
  },
  {
   "cell_type": "code",
   "execution_count": 14,
   "metadata": {},
   "outputs": [],
   "source": [
    "y_train = le.fit_transform(df_train.y_train)\n",
    "X_train = extract_HOG_features(df_train.X_train)"
   ]
  },
  {
   "cell_type": "code",
   "execution_count": 15,
   "metadata": {},
   "outputs": [],
   "source": [
    "scaler = MinMaxScaler(feature_range=(0, 1))\n",
    "X_train = scaler.fit_transform(X_train)"
   ]
  },
  {
   "cell_type": "code",
   "execution_count": 16,
   "metadata": {},
   "outputs": [],
   "source": [
    "y_test = le.fit_transform(df_test.y_test)\n",
    "X_test = extract_HOG_features(df_test.X_test)\n",
    "X_test = scaler.fit_transform(X_test)"
   ]
  },
  {
   "cell_type": "code",
   "execution_count": 17,
   "metadata": {},
   "outputs": [
    {
     "data": {
      "text/plain": [
       "((720,), (720,))"
      ]
     },
     "execution_count": 17,
     "metadata": {},
     "output_type": "execute_result"
    }
   ],
   "source": [
    "X_train[0].shape, X_test[0].shape"
   ]
  },
  {
   "cell_type": "code",
   "execution_count": 18,
   "metadata": {},
   "outputs": [],
   "source": [
    "models = []\n",
    "train_accu = []\n",
    "test_accu = []\n",
    "\n",
    "def store_results(model, train_acc, test_acc):\n",
    "    models.append(model)\n",
    "    train_accu.append(train_acc)\n",
    "    test_accu.append(test_acc)\n",
    "\n",
    "def accuracy(model, X, y_true):\n",
    "    y_pre = model.predict(X)\n",
    "    return np.sum(y_pre == y_true)/len(y_true)"
   ]
  },
  {
   "cell_type": "code",
   "execution_count": 19,
   "metadata": {},
   "outputs": [],
   "source": [
    "from sklearn.utils import shuffle\n",
    "X_train, y_train = shuffle(X_train, y_train)"
   ]
  },
  {
   "cell_type": "code",
   "execution_count": 20,
   "metadata": {},
   "outputs": [
    {
     "name": "stdout",
     "output_type": "stream",
     "text": [
      "Fitting 5 folds for each of 12 candidates, totalling 60 fits\n",
      "[CV 1/5] END .......criterion=gini, max_depth=3;, score=0.317 total time=   4.4s\n",
      "[CV 2/5] END .......criterion=gini, max_depth=3;, score=0.313 total time=   4.4s\n",
      "[CV 3/5] END .......criterion=gini, max_depth=3;, score=0.314 total time=   4.5s\n",
      "[CV 4/5] END .......criterion=gini, max_depth=3;, score=0.311 total time=   4.4s\n",
      "[CV 5/5] END .......criterion=gini, max_depth=3;, score=0.297 total time=   4.5s\n",
      "[CV 1/5] END .......criterion=gini, max_depth=5;, score=0.322 total time=   7.1s\n",
      "[CV 2/5] END .......criterion=gini, max_depth=5;, score=0.315 total time=   7.0s\n",
      "[CV 3/5] END .......criterion=gini, max_depth=5;, score=0.320 total time=   7.3s\n",
      "[CV 4/5] END .......criterion=gini, max_depth=5;, score=0.325 total time=   7.1s\n",
      "[CV 5/5] END .......criterion=gini, max_depth=5;, score=0.307 total time=   7.1s\n",
      "[CV 1/5] END .......criterion=gini, max_depth=7;, score=0.336 total time=   9.3s\n"
     ]
    }
   ],
   "source": [
    "from sklearn.svm import SVC\n",
    "from sklearn.model_selection import GridSearchCV\n",
    "\n",
    "# Best Parameters for Decision Tree Classifier\n",
    "param_grid = {'max_depth': [3, 5, 7, 9, 11, 13],\n",
    "            'criterion': ['gini', 'entropy']}\n",
    "\n",
    "grid = GridSearchCV(DecisionTreeClassifier(), param_grid, verbose=3)\n",
    "grid.fit(X_train, y_train)"
   ]
  },
  {
   "cell_type": "code",
   "execution_count": null,
   "metadata": {},
   "outputs": [
    {
     "name": "stdout",
     "output_type": "stream",
     "text": [
      "{'criterion': 'gini', 'max_depth': 7}\n",
      "DecisionTreeClassifier(max_depth=7)\n"
     ]
    }
   ],
   "source": [
    "print(grid.best_params_)\n",
    "print(grid.best_estimator_)"
   ]
  },
  {
   "cell_type": "code",
   "execution_count": null,
   "metadata": {},
   "outputs": [
    {
     "data": {
      "text/plain": [
       "(0.3858720261938765, 0.3326831986625801)"
      ]
     },
     "execution_count": 22,
     "metadata": {},
     "output_type": "execute_result"
    }
   ],
   "source": [
    "accuracy(grid.best_estimator_, X_train, y_train), accuracy(grid.best_estimator_, X_test, y_test)\n",
    "store_results(grid.best_estimator_, accuracy(grid.best_estimator_, X_train, y_train), accuracy(grid.best_estimator_, X_test, y_test))"
   ]
  },
  {
   "cell_type": "code",
   "execution_count": null,
   "metadata": {},
   "outputs": [
    {
     "name": "stdout",
     "output_type": "stream",
     "text": [
      "Fitting 5 folds for each of 18 candidates, totalling 90 fits\n",
      "[CV 1/5] END .....algorithm=auto, n_neighbors=3;, score=0.420 total time=   0.8s\n",
      "[CV 2/5] END .....algorithm=auto, n_neighbors=3;, score=0.427 total time=   0.8s\n",
      "[CV 3/5] END .....algorithm=auto, n_neighbors=3;, score=0.415 total time=   0.8s\n",
      "[CV 4/5] END .....algorithm=auto, n_neighbors=3;, score=0.430 total time=   0.8s\n",
      "[CV 5/5] END .....algorithm=auto, n_neighbors=3;, score=0.424 total time=   0.8s\n",
      "[CV 1/5] END .....algorithm=auto, n_neighbors=5;, score=0.422 total time=   0.8s\n",
      "[CV 2/5] END .....algorithm=auto, n_neighbors=5;, score=0.433 total time=   1.0s\n",
      "[CV 3/5] END .....algorithm=auto, n_neighbors=5;, score=0.429 total time=   1.0s\n",
      "[CV 4/5] END .....algorithm=auto, n_neighbors=5;, score=0.432 total time=   0.8s\n",
      "[CV 5/5] END .....algorithm=auto, n_neighbors=5;, score=0.436 total time=   0.8s\n",
      "[CV 1/5] END .....algorithm=auto, n_neighbors=7;, score=0.424 total time=   0.8s\n",
      "[CV 2/5] END .....algorithm=auto, n_neighbors=7;, score=0.444 total time=   0.8s\n",
      "[CV 3/5] END .....algorithm=auto, n_neighbors=7;, score=0.428 total time=   0.8s\n",
      "[CV 4/5] END .....algorithm=auto, n_neighbors=7;, score=0.430 total time=   0.8s\n",
      "[CV 5/5] END .....algorithm=auto, n_neighbors=7;, score=0.433 total time=   0.8s\n",
      "[CV 1/5] END .....algorithm=auto, n_neighbors=9;, score=0.425 total time=   0.8s\n",
      "[CV 2/5] END .....algorithm=auto, n_neighbors=9;, score=0.437 total time=   0.8s\n",
      "[CV 3/5] END .....algorithm=auto, n_neighbors=9;, score=0.429 total time=   0.8s\n",
      "[CV 4/5] END .....algorithm=auto, n_neighbors=9;, score=0.436 total time=   0.8s\n",
      "[CV 5/5] END .....algorithm=auto, n_neighbors=9;, score=0.434 total time=   0.8s\n",
      "[CV 1/5] END ....algorithm=auto, n_neighbors=11;, score=0.429 total time=   0.8s\n",
      "[CV 2/5] END ....algorithm=auto, n_neighbors=11;, score=0.435 total time=   0.8s\n",
      "[CV 3/5] END ....algorithm=auto, n_neighbors=11;, score=0.423 total time=   0.8s\n",
      "[CV 4/5] END ....algorithm=auto, n_neighbors=11;, score=0.429 total time=   0.9s\n",
      "[CV 5/5] END ....algorithm=auto, n_neighbors=11;, score=0.435 total time=   0.9s\n",
      "[CV 1/5] END ....algorithm=auto, n_neighbors=13;, score=0.425 total time=   1.0s\n",
      "[CV 2/5] END ....algorithm=auto, n_neighbors=13;, score=0.437 total time=   0.8s\n",
      "[CV 3/5] END ....algorithm=auto, n_neighbors=13;, score=0.422 total time=   1.0s\n",
      "[CV 4/5] END ....algorithm=auto, n_neighbors=13;, score=0.428 total time=   1.0s\n",
      "[CV 5/5] END ....algorithm=auto, n_neighbors=13;, score=0.434 total time=   0.9s\n",
      "[CV 1/5] END ..algorithm=kd_tree, n_neighbors=3;, score=0.420 total time= 1.9min\n",
      "[CV 2/5] END ..algorithm=kd_tree, n_neighbors=3;, score=0.427 total time= 1.8min\n",
      "[CV 3/5] END ..algorithm=kd_tree, n_neighbors=3;, score=0.415 total time= 1.8min\n"
     ]
    }
   ],
   "source": [
    "# Best parameter for KNN Classifier\n",
    "from sklearn.neighbors import KNeighborsClassifier\n",
    "\n",
    "param_grid = {'n_neighbors': [3, 5, 7, 9, 11, 13],\n",
    "            'weights': ['uniform', 'distance']}\n",
    "\n",
    "grid = GridSearchCV(KNeighborsClassifier(), param_grid, verbose=3)\n",
    "grid.fit(X_train, y_train)"
   ]
  },
  {
   "cell_type": "code",
   "execution_count": null,
   "metadata": {},
   "outputs": [],
   "source": [
    "print(grid.best_params_)\n",
    "print(grid.best_estimator_)"
   ]
  },
  {
   "cell_type": "code",
   "execution_count": null,
   "metadata": {},
   "outputs": [],
   "source": [
    "accuracy(grid.best_estimator_, X_train, y_train), accuracy(grid.best_estimator_, X_test, y_test)\n",
    "store_results(grid.best_estimator_, accuracy(grid.best_estimator_, X_train, y_train), accuracy(grid.best_estimator_, X_test, y_test))"
   ]
  },
  {
   "cell_type": "code",
   "execution_count": null,
   "metadata": {},
   "outputs": [],
   "source": [
    "# Best parameter for Random Forest Classifier\n",
    "param_grid = {'max_depth': [3, 5, 7, 9, 11, 13],\n",
    "            'criterion': ['gini', 'entropy', 'log_loss']}\n",
    "\n",
    "grid = GridSearchCV(RandomForestClassifier(), param_grid, verbose=3)\n",
    "grid.fit(X_train, y_train)"
   ]
  },
  {
   "cell_type": "code",
   "execution_count": null,
   "metadata": {},
   "outputs": [],
   "source": [
    "print(grid.best_params_)\n",
    "print(grid.best_estimator_)"
   ]
  },
  {
   "cell_type": "code",
   "execution_count": null,
   "metadata": {},
   "outputs": [],
   "source": [
    "accuracy(grid.best_estimator_, X_train, y_train), accuracy(grid.best_estimator_, X_test, y_test)\n",
    "store_results(grid.best_estimator_, accuracy(grid.best_estimator_, X_train, y_train), accuracy(grid.best_estimator_, X_test, y_test))"
   ]
  },
  {
   "cell_type": "code",
   "execution_count": null,
   "metadata": {},
   "outputs": [],
   "source": [
    "param_grid = {'C': [0.1, 1, 10, 100, 1000],\n",
    "                'gamma': [1, 0.1, 0.01],\n",
    "                'kernel': ['rbf']}\n",
    "\n",
    "grid = GridSearchCV(SVC(), param_grid, refit=True, verbose=3)\n",
    "grid.fit(X_train, y_train)"
   ]
  },
  {
   "cell_type": "code",
   "execution_count": null,
   "metadata": {},
   "outputs": [],
   "source": [
    "print(grid.best_params_)\n",
    "print(grid.best_estimator_)"
   ]
  },
  {
   "cell_type": "code",
   "execution_count": null,
   "metadata": {},
   "outputs": [],
   "source": [
    "accuracy(grid.best_estimator_, X_train, y_train), accuracy(grid.best_estimator_, X_test, y_test)\n",
    "store_results(grid.best_estimator_, accuracy(grid.best_estimator_, X_train, y_train), accuracy(grid.best_estimator_, X_test, y_test))"
   ]
  },
  {
   "cell_type": "code",
   "execution_count": null,
   "metadata": {},
   "outputs": [],
   "source": [
    "result = pd.DataFrame({\n",
    "    'ML Model': models,\n",
    "    'Train Accuracy': train_accu,\n",
    "    'Test Accuracy': test_accu,\n",
    "})"
   ]
  },
  {
   "cell_type": "code",
   "execution_count": null,
   "metadata": {},
   "outputs": [],
   "source": [
    "result"
   ]
  }
 ],
 "metadata": {
  "kernelspec": {
   "display_name": "tensorflow",
   "language": "python",
   "name": "python3"
  },
  "language_info": {
   "codemirror_mode": {
    "name": "ipython",
    "version": 3
   },
   "file_extension": ".py",
   "mimetype": "text/x-python",
   "name": "python",
   "nbconvert_exporter": "python",
   "pygments_lexer": "ipython3",
   "version": "3.10.11"
  }
 },
 "nbformat": 4,
 "nbformat_minor": 2
}
