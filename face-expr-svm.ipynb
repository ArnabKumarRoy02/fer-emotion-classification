{
 "cells": [
  {
   "cell_type": "code",
   "execution_count": 3,
   "metadata": {},
   "outputs": [],
   "source": [
    "import os\n",
    "import cv2\n",
    "import time\n",
    "import pandas as pd\n",
    "import numpy as np\n",
    "from skimage import feature\n",
    "from sklearn import preprocessing\n",
    "import matplotlib.pyplot as plt\n",
    "from sklearn.preprocessing import MinMaxScaler\n",
    "from sklearn.ensemble import RandomForestClassifier\n",
    "from sklearn.tree import DecisionTreeClassifier\n",
    "from sklearn.ensemble import GradientBoostingClassifier"
   ]
  },
  {
   "cell_type": "code",
   "execution_count": 5,
   "metadata": {},
   "outputs": [
    {
     "data": {
      "text/plain": [
       "(48, 48)"
      ]
     },
     "execution_count": 5,
     "metadata": {},
     "output_type": "execute_result"
    }
   ],
   "source": [
    "image = cv2.imread('fer-2013/test/angry/PrivateTest_1623042.jpg', 0)\n",
    "image.shape"
   ]
  },
  {
   "cell_type": "code",
   "execution_count": 11,
   "metadata": {},
   "outputs": [],
   "source": [
    "# Function to read data from folder\n",
    "def read_data(path: str):\n",
    "    data_path = []\n",
    "    labels = []\n",
    "    for dirname, name, filenames in os.walk('fer-2013/' + path):\n",
    "        for filename in filenames:\n",
    "            data_path.append(os.path.join(dirname, filename))\n",
    "            labels.append(dirname.split('/')[-1])\n",
    "    return data_path, labels"
   ]
  },
  {
   "cell_type": "code",
   "execution_count": 12,
   "metadata": {},
   "outputs": [],
   "source": [
    "X_train_path, label_train = read_data('train')\n",
    "X_test_path, label_test = read_data('test')"
   ]
  },
  {
   "cell_type": "code",
   "execution_count": 13,
   "metadata": {},
   "outputs": [],
   "source": [
    "df_train = pd.DataFrame(\n",
    "    {'X_train': X_train_path,\n",
    "     'y_train' :label_train}\n",
    ")"
   ]
  },
  {
   "cell_type": "code",
   "execution_count": 14,
   "metadata": {},
   "outputs": [
    {
     "data": {
      "text/html": [
       "<div>\n",
       "<style scoped>\n",
       "    .dataframe tbody tr th:only-of-type {\n",
       "        vertical-align: middle;\n",
       "    }\n",
       "\n",
       "    .dataframe tbody tr th {\n",
       "        vertical-align: top;\n",
       "    }\n",
       "\n",
       "    .dataframe thead th {\n",
       "        text-align: right;\n",
       "    }\n",
       "</style>\n",
       "<table border=\"1\" class=\"dataframe\">\n",
       "  <thead>\n",
       "    <tr style=\"text-align: right;\">\n",
       "      <th></th>\n",
       "      <th>X_train</th>\n",
       "      <th>y_train</th>\n",
       "    </tr>\n",
       "  </thead>\n",
       "  <tbody>\n",
       "    <tr>\n",
       "      <th>0</th>\n",
       "      <td>fer-2013/train/happy/Training_50449107.jpg</td>\n",
       "      <td>happy</td>\n",
       "    </tr>\n",
       "    <tr>\n",
       "      <th>1</th>\n",
       "      <td>fer-2013/train/happy/Training_70433018.jpg</td>\n",
       "      <td>happy</td>\n",
       "    </tr>\n",
       "    <tr>\n",
       "      <th>2</th>\n",
       "      <td>fer-2013/train/happy/Training_85610005.jpg</td>\n",
       "      <td>happy</td>\n",
       "    </tr>\n",
       "    <tr>\n",
       "      <th>3</th>\n",
       "      <td>fer-2013/train/happy/Training_4460748.jpg</td>\n",
       "      <td>happy</td>\n",
       "    </tr>\n",
       "    <tr>\n",
       "      <th>4</th>\n",
       "      <td>fer-2013/train/happy/Training_6312930.jpg</td>\n",
       "      <td>happy</td>\n",
       "    </tr>\n",
       "  </tbody>\n",
       "</table>\n",
       "</div>"
      ],
      "text/plain": [
       "                                      X_train y_train\n",
       "0  fer-2013/train/happy/Training_50449107.jpg   happy\n",
       "1  fer-2013/train/happy/Training_70433018.jpg   happy\n",
       "2  fer-2013/train/happy/Training_85610005.jpg   happy\n",
       "3   fer-2013/train/happy/Training_4460748.jpg   happy\n",
       "4   fer-2013/train/happy/Training_6312930.jpg   happy"
      ]
     },
     "execution_count": 14,
     "metadata": {},
     "output_type": "execute_result"
    }
   ],
   "source": [
    "df_train.head()"
   ]
  },
  {
   "cell_type": "code",
   "execution_count": 18,
   "metadata": {},
   "outputs": [],
   "source": [
    "name_train, frequency_train = np.unique(df_train.y_train,return_counts=True)"
   ]
  },
  {
   "cell_type": "code",
   "execution_count": 16,
   "metadata": {},
   "outputs": [],
   "source": [
    "df_test = pd.DataFrame({\n",
    "    'X_test':X_test_path,\n",
    "    'y_test' :label_test}\n",
    ")"
   ]
  },
  {
   "cell_type": "code",
   "execution_count": 17,
   "metadata": {},
   "outputs": [
    {
     "data": {
      "text/html": [
       "<div>\n",
       "<style scoped>\n",
       "    .dataframe tbody tr th:only-of-type {\n",
       "        vertical-align: middle;\n",
       "    }\n",
       "\n",
       "    .dataframe tbody tr th {\n",
       "        vertical-align: top;\n",
       "    }\n",
       "\n",
       "    .dataframe thead th {\n",
       "        text-align: right;\n",
       "    }\n",
       "</style>\n",
       "<table border=\"1\" class=\"dataframe\">\n",
       "  <thead>\n",
       "    <tr style=\"text-align: right;\">\n",
       "      <th></th>\n",
       "      <th>X_test</th>\n",
       "      <th>y_test</th>\n",
       "    </tr>\n",
       "  </thead>\n",
       "  <tbody>\n",
       "    <tr>\n",
       "      <th>0</th>\n",
       "      <td>fer-2013/test/happy/PrivateTest_45699463.jpg</td>\n",
       "      <td>happy</td>\n",
       "    </tr>\n",
       "    <tr>\n",
       "      <th>1</th>\n",
       "      <td>fer-2013/test/happy/PrivateTest_61855708.jpg</td>\n",
       "      <td>happy</td>\n",
       "    </tr>\n",
       "    <tr>\n",
       "      <th>2</th>\n",
       "      <td>fer-2013/test/happy/PublicTest_53681781.jpg</td>\n",
       "      <td>happy</td>\n",
       "    </tr>\n",
       "    <tr>\n",
       "      <th>3</th>\n",
       "      <td>fer-2013/test/happy/PrivateTest_52109800.jpg</td>\n",
       "      <td>happy</td>\n",
       "    </tr>\n",
       "    <tr>\n",
       "      <th>4</th>\n",
       "      <td>fer-2013/test/happy/PublicTest_41104919.jpg</td>\n",
       "      <td>happy</td>\n",
       "    </tr>\n",
       "  </tbody>\n",
       "</table>\n",
       "</div>"
      ],
      "text/plain": [
       "                                         X_test y_test\n",
       "0  fer-2013/test/happy/PrivateTest_45699463.jpg  happy\n",
       "1  fer-2013/test/happy/PrivateTest_61855708.jpg  happy\n",
       "2   fer-2013/test/happy/PublicTest_53681781.jpg  happy\n",
       "3  fer-2013/test/happy/PrivateTest_52109800.jpg  happy\n",
       "4   fer-2013/test/happy/PublicTest_41104919.jpg  happy"
      ]
     },
     "execution_count": 17,
     "metadata": {},
     "output_type": "execute_result"
    }
   ],
   "source": [
    "df_test.head()"
   ]
  },
  {
   "cell_type": "code",
   "execution_count": 24,
   "metadata": {},
   "outputs": [
    {
     "data": {
      "text/plain": [
       "<matplotlib.legend.Legend at 0x29d783f70>"
      ]
     },
     "execution_count": 24,
     "metadata": {},
     "output_type": "execute_result"
    },
    {
     "data": {
      "image/png": "[encoded data removed]",
      "text/plain": [
       "<Figure size 640x480 with 1 Axes>"
      ]
     },
     "metadata": {},
     "output_type": "display_data"
    }
   ],
   "source": [
    "name_test, frequency_test = np.unique(df_test.y_test, return_counts=True)\n",
    "plt.bar(name_train, frequency_train)\n",
    "plt.bar(name_test, frequency_test, bottom=frequency_train, color='orange')\n",
    "plt.xlabel(\"Emotions\")\n",
    "plt.ylabel(\"Train and Test data\")\n",
    "plt.legend([\"Train\", \"Test\"])"
   ]
  },
  {
   "cell_type": "code",
   "execution_count": 25,
   "metadata": {},
   "outputs": [
    {
     "data": {
      "text/plain": [
       "y_train\n",
       "happy       7215\n",
       "neutral     4965\n",
       "sad         4830\n",
       "fear        4097\n",
       "angry       3995\n",
       "surprise    3171\n",
       "disgust      436\n",
       "Name: count, dtype: int64"
      ]
     },
     "execution_count": 25,
     "metadata": {},
     "output_type": "execute_result"
    }
   ],
   "source": [
    "# The above plot shows that the data is unbalanced. The data has many samples for happy but very few for disgust.\n",
    "# Hence, we need to balance the data.\n",
    "df_train.y_train.value_counts()"
   ]
  },
  {
   "cell_type": "code",
   "execution_count": 66,
   "metadata": {},
   "outputs": [],
   "source": [
    "new_df_train = df_train.loc[:, ]\n",
    "class_counts = df_train['y_train'].value_counts()\n",
    "min_count = class_counts.min()\n",
    "\n",
    "new_df_train = df_train.groupby('y_train').apply(lambda x: x.sample(min_count)).reset_index(drop=True)"
   ]
  },
  {
   "cell_type": "code",
   "execution_count": 67,
   "metadata": {},
   "outputs": [
    {
     "data": {
      "text/plain": [
       "y_train\n",
       "angry       436\n",
       "disgust     436\n",
       "fear        436\n",
       "happy       436\n",
       "neutral     436\n",
       "sad         436\n",
       "surprise    436\n",
       "Name: count, dtype: int64"
      ]
     },
     "execution_count": 67,
     "metadata": {},
     "output_type": "execute_result"
    }
   ],
   "source": [
    "# Here we have balanced the data by taking the minimum count of samples for each emotion.\n",
    "new_df_train.y_train.value_counts()"
   ]
  },
  {
   "cell_type": "code",
   "execution_count": 68,
   "metadata": {},
   "outputs": [],
   "source": [
    "le = preprocessing.LabelEncoder()\n",
    "# new_df_train.y_train = le.fit_transform(new_df_train.y_train)"
   ]
  },
  {
   "cell_type": "code",
   "execution_count": 69,
   "metadata": {},
   "outputs": [
    {
     "data": {
      "text/html": [
       "<div>\n",
       "<style scoped>\n",
       "    .dataframe tbody tr th:only-of-type {\n",
       "        vertical-align: middle;\n",
       "    }\n",
       "\n",
       "    .dataframe tbody tr th {\n",
       "        vertical-align: top;\n",
       "    }\n",
       "\n",
       "    .dataframe thead th {\n",
       "        text-align: right;\n",
       "    }\n",
       "</style>\n",
       "<table border=\"1\" class=\"dataframe\">\n",
       "  <thead>\n",
       "    <tr style=\"text-align: right;\">\n",
       "      <th></th>\n",
       "      <th>X_train</th>\n",
       "      <th>y_train</th>\n",
       "    </tr>\n",
       "  </thead>\n",
       "  <tbody>\n",
       "    <tr>\n",
       "      <th>0</th>\n",
       "      <td>fer-2013/train/angry/Training_81438547.jpg</td>\n",
       "      <td>angry</td>\n",
       "    </tr>\n",
       "    <tr>\n",
       "      <th>1</th>\n",
       "      <td>fer-2013/train/angry/Training_66014049.jpg</td>\n",
       "      <td>angry</td>\n",
       "    </tr>\n",
       "    <tr>\n",
       "      <th>2</th>\n",
       "      <td>fer-2013/train/angry/Training_78759538.jpg</td>\n",
       "      <td>angry</td>\n",
       "    </tr>\n",
       "    <tr>\n",
       "      <th>3</th>\n",
       "      <td>fer-2013/train/angry/Training_84548986.jpg</td>\n",
       "      <td>angry</td>\n",
       "    </tr>\n",
       "    <tr>\n",
       "      <th>4</th>\n",
       "      <td>fer-2013/train/angry/Training_44947321.jpg</td>\n",
       "      <td>angry</td>\n",
       "    </tr>\n",
       "  </tbody>\n",
       "</table>\n",
       "</div>"
      ],
      "text/plain": [
       "                                      X_train y_train\n",
       "0  fer-2013/train/angry/Training_81438547.jpg   angry\n",
       "1  fer-2013/train/angry/Training_66014049.jpg   angry\n",
       "2  fer-2013/train/angry/Training_78759538.jpg   angry\n",
       "3  fer-2013/train/angry/Training_84548986.jpg   angry\n",
       "4  fer-2013/train/angry/Training_44947321.jpg   angry"
      ]
     },
     "execution_count": 69,
     "metadata": {},
     "output_type": "execute_result"
    }
   ],
   "source": [
    "new_df_train.head()"
   ]
  },
  {
   "cell_type": "code",
   "execution_count": 49,
   "metadata": {},
   "outputs": [
    {
     "name": "stdout",
     "output_type": "stream",
     "text": [
      "['angry' 'angry' 'angry' ... 'surprise' 'surprise' 'surprise']\n"
     ]
    }
   ],
   "source": [
    "labels = le.inverse_transform(new_df_train.y_train)\n",
    "print(labels)"
   ]
  },
  {
   "cell_type": "code",
   "execution_count": 70,
   "metadata": {},
   "outputs": [],
   "source": [
    "new_df_test = df_test.loc[:, ]\n",
    "class_counts = df_test['y_test'].value_counts()\n",
    "min_count = class_counts.min()\n",
    "\n",
    "new_df_test = df_test.groupby('y_test').apply(lambda x: x.sample(min_count)).reset_index(drop=True)"
   ]
  },
  {
   "cell_type": "code",
   "execution_count": 71,
   "metadata": {},
   "outputs": [
    {
     "data": {
      "text/plain": [
       "y_test\n",
       "angry       111\n",
       "disgust     111\n",
       "fear        111\n",
       "happy       111\n",
       "neutral     111\n",
       "sad         111\n",
       "surprise    111\n",
       "Name: count, dtype: int64"
      ]
     },
     "execution_count": 71,
     "metadata": {},
     "output_type": "execute_result"
    }
   ],
   "source": [
    "new_df_test.y_test.value_counts()"
   ]
  },
  {
   "cell_type": "code",
   "execution_count": 72,
   "metadata": {},
   "outputs": [],
   "source": [
    "le = preprocessing.LabelEncoder()\n",
    "# new_df_test.y_test = le.fit_transform(new_df_test.y_test)"
   ]
  },
  {
   "cell_type": "code",
   "execution_count": 73,
   "metadata": {},
   "outputs": [
    {
     "data": {
      "text/html": [
       "<div>\n",
       "<style scoped>\n",
       "    .dataframe tbody tr th:only-of-type {\n",
       "        vertical-align: middle;\n",
       "    }\n",
       "\n",
       "    .dataframe tbody tr th {\n",
       "        vertical-align: top;\n",
       "    }\n",
       "\n",
       "    .dataframe thead th {\n",
       "        text-align: right;\n",
       "    }\n",
       "</style>\n",
       "<table border=\"1\" class=\"dataframe\">\n",
       "  <thead>\n",
       "    <tr style=\"text-align: right;\">\n",
       "      <th></th>\n",
       "      <th>X_test</th>\n",
       "      <th>y_test</th>\n",
       "    </tr>\n",
       "  </thead>\n",
       "  <tbody>\n",
       "    <tr>\n",
       "      <th>0</th>\n",
       "      <td>fer-2013/test/angry/PrivateTest_43530807.jpg</td>\n",
       "      <td>angry</td>\n",
       "    </tr>\n",
       "    <tr>\n",
       "      <th>1</th>\n",
       "      <td>fer-2013/test/angry/PrivateTest_2642370.jpg</td>\n",
       "      <td>angry</td>\n",
       "    </tr>\n",
       "    <tr>\n",
       "      <th>2</th>\n",
       "      <td>fer-2013/test/angry/PublicTest_80242801.jpg</td>\n",
       "      <td>angry</td>\n",
       "    </tr>\n",
       "    <tr>\n",
       "      <th>3</th>\n",
       "      <td>fer-2013/test/angry/PublicTest_96323579.jpg</td>\n",
       "      <td>angry</td>\n",
       "    </tr>\n",
       "    <tr>\n",
       "      <th>4</th>\n",
       "      <td>fer-2013/test/angry/PublicTest_48156348.jpg</td>\n",
       "      <td>angry</td>\n",
       "    </tr>\n",
       "  </tbody>\n",
       "</table>\n",
       "</div>"
      ],
      "text/plain": [
       "                                         X_test y_test\n",
       "0  fer-2013/test/angry/PrivateTest_43530807.jpg  angry\n",
       "1   fer-2013/test/angry/PrivateTest_2642370.jpg  angry\n",
       "2   fer-2013/test/angry/PublicTest_80242801.jpg  angry\n",
       "3   fer-2013/test/angry/PublicTest_96323579.jpg  angry\n",
       "4   fer-2013/test/angry/PublicTest_48156348.jpg  angry"
      ]
     },
     "execution_count": 73,
     "metadata": {},
     "output_type": "execute_result"
    }
   ],
   "source": [
    "new_df_test.head()"
   ]
  },
  {
   "cell_type": "code",
   "execution_count": 50,
   "metadata": {},
   "outputs": [],
   "source": [
    "def extract_HOG_features(X):\n",
    "    X_train = []\n",
    "    for i in X:\n",
    "        img = cv2.imread(i, 0)\n",
    "        gauss = img\n",
    "        X_train.append(feature.hog(gauss, orientations=5, pixels_per_cell=(8, 8),\n",
    "                        cells_per_block=(4, 4), transform_sqrt=True, block_norm=\"L2\"))\n",
    "    return X_train"
   ]
  },
  {
   "cell_type": "code",
   "execution_count": 81,
   "metadata": {},
   "outputs": [],
   "source": [
    "y_train = le.fit_transform(new_df_train.y_train)\n",
    "X_train = extract_HOG_features(new_df_train.X_train)"
   ]
  },
  {
   "cell_type": "code",
   "execution_count": 82,
   "metadata": {},
   "outputs": [],
   "source": [
    "scaler = MinMaxScaler(feature_range=(0, 1))\n",
    "X_train = scaler.fit_transform(X_train)"
   ]
  },
  {
   "cell_type": "code",
   "execution_count": 83,
   "metadata": {},
   "outputs": [],
   "source": [
    "y_test = le.fit_transform(new_df_test.y_test)\n",
    "X_test = extract_HOG_features(new_df_test.X_test)\n",
    "X_test = scaler.fit_transform(X_test)"
   ]
  },
  {
   "cell_type": "code",
   "execution_count": 84,
   "metadata": {},
   "outputs": [
    {
     "data": {
      "text/plain": [
       "((720,), (720,))"
      ]
     },
     "execution_count": 84,
     "metadata": {},
     "output_type": "execute_result"
    }
   ],
   "source": [
    "X_train[0].shape, X_test[0].shape"
   ]
  },
  {
   "cell_type": "code",
   "execution_count": 141,
   "metadata": {},
   "outputs": [],
   "source": [
    "models = []\n",
    "train_accu = []\n",
    "test_accu = []\n",
    "\n",
    "def store_results(model, train_acc, test_acc):\n",
    "    models.append(model)\n",
    "    train_accu.append(train_acc)\n",
    "    test_accu.append(test_acc)\n",
    "\n",
    "def accuracy(model, X, y_true):\n",
    "    y_pre = model.predict(X)\n",
    "    return np.sum(y_pre == y_true)/len(y_true)"
   ]
  },
  {
   "cell_type": "code",
   "execution_count": 86,
   "metadata": {},
   "outputs": [],
   "source": [
    "from sklearn.utils import shuffle\n",
    "X_train, y_train = shuffle(X_train, y_train)"
   ]
  },
  {
   "cell_type": "code",
   "execution_count": 140,
   "metadata": {},
   "outputs": [],
   "source": [
    "# Decision Tree Classifier\n",
    "clf = DecisionTreeClassifier(max_depth=9,random_state=42)\n",
    "clf7 = DecisionTreeClassifier(max_depth=7,random_state=42)\n",
    "clf11 = DecisionTreeClassifier(max_depth=11,random_state=42)\n",
    "clf = clf.fit(X_train, y_train)\n",
    "clf7 = clf7.fit(X_train, y_train)\n",
    "clf11 = clf11.fit(X_train, y_train)"
   ]
  },
  {
   "cell_type": "code",
   "execution_count": 142,
   "metadata": {},
   "outputs": [],
   "source": [
    "y_pred_dt = clf.predict(X_test)\n",
    "y_pred_dt7 = clf7.predict(X_test)\n",
    "y_pred_dt11 = clf11.predict(X_test)"
   ]
  },
  {
   "cell_type": "code",
   "execution_count": 143,
   "metadata": {},
   "outputs": [],
   "source": [
    "store_results(clf, accuracy(clf, X_train, y_train), accuracy(clf, X_test, y_test))\n",
    "store_results(clf7, accuracy(clf7, X_train, y_train), accuracy(clf7, X_test, y_test))\n",
    "store_results(clf11, accuracy(clf11, X_train, y_train), accuracy(clf11, X_test, y_test))"
   ]
  },
  {
   "cell_type": "code",
   "execution_count": 130,
   "metadata": {},
   "outputs": [],
   "source": [
    "# Random Forest Classifier\n",
    "rf9 = RandomForestClassifier(max_depth=9, random_state=42, criterion='log_loss')\n",
    "rf9 = rf9.fit(X_train, y_train)"
   ]
  },
  {
   "cell_type": "code",
   "execution_count": 131,
   "metadata": {},
   "outputs": [],
   "source": [
    "y_pred_rf9 = rf9.predict(X_test)"
   ]
  },
  {
   "cell_type": "code",
   "execution_count": 132,
   "metadata": {},
   "outputs": [],
   "source": [
    "store_results(rf9, accuracy(rf9, X_train, y_train), accuracy(rf9, X_test, y_test))"
   ]
  },
  {
   "cell_type": "code",
   "execution_count": 144,
   "metadata": {},
   "outputs": [],
   "source": [
    "# KNN Classifier\n",
    "from sklearn.neighbors import KNeighborsClassifier\n",
    "knn9 = KNeighborsClassifier(n_neighbors=9)\n",
    "knn7 = KNeighborsClassifier(n_neighbors=7)\n",
    "knn5 = KNeighborsClassifier(n_neighbors=5)\n",
    "\n",
    "knn9 = knn9.fit(X_train, y_train)\n",
    "knn7 = knn7.fit(X_train, y_train)\n",
    "knn5 = knn5.fit(X_train, y_train)"
   ]
  },
  {
   "cell_type": "code",
   "execution_count": 145,
   "metadata": {},
   "outputs": [],
   "source": [
    "y_pred_knn9 = knn9.predict(X_test)\n",
    "y_pred_knn7 = knn7.predict(X_test)\n",
    "y_pred_knn5 = knn5.predict(X_test)"
   ]
  },
  {
   "cell_type": "code",
   "execution_count": 146,
   "metadata": {},
   "outputs": [],
   "source": [
    "store_results(knn9, accuracy(knn9, X_train, y_train), accuracy(knn9, X_test, y_test))\n",
    "store_results(knn7, accuracy(knn7, X_train, y_train), accuracy(knn7, X_test, y_test))\n",
    "store_results(knn5, accuracy(knn5, X_train, y_train), accuracy(knn5, X_test, y_test))"
   ]
  },
  {
   "cell_type": "code",
   "execution_count": 167,
   "metadata": {},
   "outputs": [],
   "source": [
    "result = pd.DataFrame({\n",
    "    'ML Model': models,\n",
    "    'Train Accuracy': train_accu,\n",
    "    'Test Accuracy': test_accu,\n",
    "})"
   ]
  },
  {
   "cell_type": "code",
   "execution_count": 168,
   "metadata": {},
   "outputs": [
    {
     "data": {
      "text/html": [
       "<div>\n",
       "<style scoped>\n",
       "    .dataframe tbody tr th:only-of-type {\n",
       "        vertical-align: middle;\n",
       "    }\n",
       "\n",
       "    .dataframe tbody tr th {\n",
       "        vertical-align: top;\n",
       "    }\n",
       "\n",
       "    .dataframe thead th {\n",
       "        text-align: right;\n",
       "    }\n",
       "</style>\n",
       "<table border=\"1\" class=\"dataframe\">\n",
       "  <thead>\n",
       "    <tr style=\"text-align: right;\">\n",
       "      <th></th>\n",
       "      <th>ML Model</th>\n",
       "      <th>Train Accuracy</th>\n",
       "      <th>Test Accuracy</th>\n",
       "    </tr>\n",
       "  </thead>\n",
       "  <tbody>\n",
       "    <tr>\n",
       "      <th>0</th>\n",
       "      <td>DecisionTreeClassifier(max_depth=9, random_sta...</td>\n",
       "      <td>0.627130</td>\n",
       "      <td>0.213642</td>\n",
       "    </tr>\n",
       "    <tr>\n",
       "      <th>1</th>\n",
       "      <td>DecisionTreeClassifier(max_depth=7, random_sta...</td>\n",
       "      <td>0.466907</td>\n",
       "      <td>0.234234</td>\n",
       "    </tr>\n",
       "    <tr>\n",
       "      <th>2</th>\n",
       "      <td>DecisionTreeClassifier(max_depth=11, random_st...</td>\n",
       "      <td>0.794561</td>\n",
       "      <td>0.216216</td>\n",
       "    </tr>\n",
       "    <tr>\n",
       "      <th>3</th>\n",
       "      <td>KNeighborsClassifier(n_neighbors=9)</td>\n",
       "      <td>0.471494</td>\n",
       "      <td>0.334620</td>\n",
       "    </tr>\n",
       "    <tr>\n",
       "      <th>4</th>\n",
       "      <td>KNeighborsClassifier(n_neighbors=7)</td>\n",
       "      <td>0.499017</td>\n",
       "      <td>0.337194</td>\n",
       "    </tr>\n",
       "    <tr>\n",
       "      <th>5</th>\n",
       "      <td>KNeighborsClassifier()</td>\n",
       "      <td>0.541612</td>\n",
       "      <td>0.328185</td>\n",
       "    </tr>\n",
       "    <tr>\n",
       "      <th>6</th>\n",
       "      <td>SVC(C=1, gamma=1, kernel='linear')</td>\n",
       "      <td>0.597313</td>\n",
       "      <td>0.365508</td>\n",
       "    </tr>\n",
       "    <tr>\n",
       "      <th>7</th>\n",
       "      <td>SVC(C=10, gamma=1, kernel='linear')</td>\n",
       "      <td>0.737549</td>\n",
       "      <td>0.339768</td>\n",
       "    </tr>\n",
       "    <tr>\n",
       "      <th>8</th>\n",
       "      <td>SVC(C=100, gamma=1, kernel='linear')</td>\n",
       "      <td>0.930210</td>\n",
       "      <td>0.294723</td>\n",
       "    </tr>\n",
       "    <tr>\n",
       "      <th>9</th>\n",
       "      <td>SVC(C=1000, gamma=1, kernel='linear')</td>\n",
       "      <td>1.000000</td>\n",
       "      <td>0.289575</td>\n",
       "    </tr>\n",
       "    <tr>\n",
       "      <th>10</th>\n",
       "      <td>GridSearchCV(estimator=SVC(),\\n             pa...</td>\n",
       "      <td>1.000000</td>\n",
       "      <td>0.447876</td>\n",
       "    </tr>\n",
       "    <tr>\n",
       "      <th>11</th>\n",
       "      <td>SVC(C=100, gamma=0.1)</td>\n",
       "      <td>1.000000</td>\n",
       "      <td>0.447876</td>\n",
       "    </tr>\n",
       "  </tbody>\n",
       "</table>\n",
       "</div>"
      ],
      "text/plain": [
       "                                             ML Model  Train Accuracy  \\\n",
       "0   DecisionTreeClassifier(max_depth=9, random_sta...        0.627130   \n",
       "1   DecisionTreeClassifier(max_depth=7, random_sta...        0.466907   \n",
       "2   DecisionTreeClassifier(max_depth=11, random_st...        0.794561   \n",
       "3                 KNeighborsClassifier(n_neighbors=9)        0.471494   \n",
       "4                 KNeighborsClassifier(n_neighbors=7)        0.499017   \n",
       "5                              KNeighborsClassifier()        0.541612   \n",
       "6                  SVC(C=1, gamma=1, kernel='linear')        0.597313   \n",
       "7                 SVC(C=10, gamma=1, kernel='linear')        0.737549   \n",
       "8                SVC(C=100, gamma=1, kernel='linear')        0.930210   \n",
       "9               SVC(C=1000, gamma=1, kernel='linear')        1.000000   \n",
       "10  GridSearchCV(estimator=SVC(),\\n             pa...        1.000000   \n",
       "11                              SVC(C=100, gamma=0.1)        1.000000   \n",
       "\n",
       "    Test Accuracy  \n",
       "0        0.213642  \n",
       "1        0.234234  \n",
       "2        0.216216  \n",
       "3        0.334620  \n",
       "4        0.337194  \n",
       "5        0.328185  \n",
       "6        0.365508  \n",
       "7        0.339768  \n",
       "8        0.294723  \n",
       "9        0.289575  \n",
       "10       0.447876  \n",
       "11       0.447876  "
      ]
     },
     "execution_count": 168,
     "metadata": {},
     "output_type": "execute_result"
    }
   ],
   "source": [
    "result"
   ]
  },
  {
   "cell_type": "code",
   "execution_count": 151,
   "metadata": {},
   "outputs": [],
   "source": [
    "# Support Vector Machine\n",
    "from sklearn.svm import SVC\n",
    "\n",
    "svm = SVC(kernel='linear', C=1, gamma=1)\n",
    "svm1 = SVC(kernel='linear', C=10, gamma=1)\n",
    "svm2 = SVC(kernel='linear', C=100, gamma=1)\n",
    "svm3 = SVC(kernel='linear', C=1000, gamma=1)\n",
    "\n",
    "svm = svm.fit(X_train, y_train)\n",
    "svm1 = svm1.fit(X_train, y_train)\n",
    "svm2 = svm2.fit(X_train, y_train)\n",
    "svm3 = svm3.fit(X_train, y_train)"
   ]
  },
  {
   "cell_type": "code",
   "execution_count": 152,
   "metadata": {},
   "outputs": [],
   "source": [
    "y_pred_svm = svm.predict(X_test)\n",
    "y_pred_svm1 = svm1.predict(X_test)\n",
    "y_pred_svm2 = svm2.predict(X_test)\n",
    "y_pred_svm3 = svm3.predict(X_test)"
   ]
  },
  {
   "cell_type": "code",
   "execution_count": 153,
   "metadata": {},
   "outputs": [],
   "source": [
    "store_results(svm, accuracy(svm, X_train, y_train), accuracy(svm, X_test, y_test))\n",
    "store_results(svm1, accuracy(svm1, X_train, y_train), accuracy(svm1, X_test, y_test))\n",
    "store_results(svm2, accuracy(svm2, X_train, y_train), accuracy(svm2, X_test, y_test))\n",
    "store_results(svm3, accuracy(svm3, X_train, y_train), accuracy(svm3, X_test, y_test))"
   ]
  },
  {
   "cell_type": "code",
   "execution_count": 156,
   "metadata": {},
   "outputs": [
    {
     "name": "stdout",
     "output_type": "stream",
     "text": [
      "              precision    recall  f1-score   support\n",
      "\n",
      "           0       0.37      0.35      0.36       111\n",
      "           1       0.72      0.55      0.62       111\n",
      "           2       0.37      0.19      0.25       111\n",
      "           3       0.58      0.50      0.54       111\n",
      "           4       0.38      0.48      0.43       111\n",
      "           5       0.26      0.53      0.35       111\n",
      "           6       0.72      0.45      0.56       111\n",
      "\n",
      "    accuracy                           0.44       777\n",
      "   macro avg       0.49      0.44      0.44       777\n",
      "weighted avg       0.49      0.44      0.44       777\n",
      "\n"
     ]
    }
   ],
   "source": [
    "from sklearn.model_selection import GridSearchCV\n",
    "from sklearn.metrics import classification_report\n",
    "\n",
    "model = SVC()\n",
    "model.fit(X_train, y_train)\n",
    "prediction = model.predict(X_test)\n",
    "print(classification_report(y_test, prediction))"
   ]
  },
  {
   "cell_type": "code",
   "execution_count": 157,
   "metadata": {},
   "outputs": [
    {
     "name": "stdout",
     "output_type": "stream",
     "text": [
      "Fitting 5 folds for each of 25 candidates, totalling 125 fits\n",
      "[CV 1/5] END ........C=0.1, gamma=1, kernel=rbf;, score=0.157 total time=   1.9s\n",
      "[CV 2/5] END ........C=0.1, gamma=1, kernel=rbf;, score=0.164 total time=   1.9s\n",
      "[CV 3/5] END ........C=0.1, gamma=1, kernel=rbf;, score=0.154 total time=   1.9s\n",
      "[CV 4/5] END ........C=0.1, gamma=1, kernel=rbf;, score=0.166 total time=   1.9s\n",
      "[CV 5/5] END ........C=0.1, gamma=1, kernel=rbf;, score=0.166 total time=   1.9s\n",
      "[CV 1/5] END ......C=0.1, gamma=0.1, kernel=rbf;, score=0.291 total time=   1.9s\n",
      "[CV 2/5] END ......C=0.1, gamma=0.1, kernel=rbf;, score=0.313 total time=   1.9s\n",
      "[CV 3/5] END ......C=0.1, gamma=0.1, kernel=rbf;, score=0.333 total time=   1.9s\n",
      "[CV 4/5] END ......C=0.1, gamma=0.1, kernel=rbf;, score=0.330 total time=   1.9s\n",
      "[CV 5/5] END ......C=0.1, gamma=0.1, kernel=rbf;, score=0.315 total time=   1.9s\n",
      "[CV 1/5] END .....C=0.1, gamma=0.01, kernel=rbf;, score=0.241 total time=   1.9s\n",
      "[CV 2/5] END .....C=0.1, gamma=0.01, kernel=rbf;, score=0.326 total time=   1.9s\n",
      "[CV 3/5] END .....C=0.1, gamma=0.01, kernel=rbf;, score=0.311 total time=   1.9s\n",
      "[CV 4/5] END .....C=0.1, gamma=0.01, kernel=rbf;, score=0.293 total time=   1.9s\n",
      "[CV 5/5] END .....C=0.1, gamma=0.01, kernel=rbf;, score=0.300 total time=   1.9s\n",
      "[CV 1/5] END ....C=0.1, gamma=0.001, kernel=rbf;, score=0.242 total time=   1.9s\n",
      "[CV 2/5] END ....C=0.1, gamma=0.001, kernel=rbf;, score=0.334 total time=   1.9s\n",
      "[CV 3/5] END ....C=0.1, gamma=0.001, kernel=rbf;, score=0.311 total time=   1.9s\n",
      "[CV 4/5] END ....C=0.1, gamma=0.001, kernel=rbf;, score=0.284 total time=   1.9s\n",
      "[CV 5/5] END ....C=0.1, gamma=0.001, kernel=rbf;, score=0.295 total time=   1.9s\n",
      "[CV 1/5] END ...C=0.1, gamma=0.0001, kernel=rbf;, score=0.239 total time=   1.9s\n",
      "[CV 2/5] END ...C=0.1, gamma=0.0001, kernel=rbf;, score=0.337 total time=   1.9s\n",
      "[CV 3/5] END ...C=0.1, gamma=0.0001, kernel=rbf;, score=0.310 total time=   1.9s\n",
      "[CV 4/5] END ...C=0.1, gamma=0.0001, kernel=rbf;, score=0.282 total time=   1.9s\n",
      "[CV 5/5] END ...C=0.1, gamma=0.0001, kernel=rbf;, score=0.292 total time=   1.9s\n",
      "[CV 1/5] END ..........C=1, gamma=1, kernel=rbf;, score=0.226 total time=   1.9s\n",
      "[CV 2/5] END ..........C=1, gamma=1, kernel=rbf;, score=0.227 total time=   1.9s\n",
      "[CV 3/5] END ..........C=1, gamma=1, kernel=rbf;, score=0.216 total time=   1.9s\n",
      "[CV 4/5] END ..........C=1, gamma=1, kernel=rbf;, score=0.221 total time=   1.9s\n",
      "[CV 5/5] END ..........C=1, gamma=1, kernel=rbf;, score=0.243 total time=   1.9s\n",
      "[CV 1/5] END ........C=1, gamma=0.1, kernel=rbf;, score=0.401 total time=   1.8s\n",
      "[CV 2/5] END ........C=1, gamma=0.1, kernel=rbf;, score=0.417 total time=   1.8s\n",
      "[CV 3/5] END ........C=1, gamma=0.1, kernel=rbf;, score=0.436 total time=   1.8s\n",
      "[CV 4/5] END ........C=1, gamma=0.1, kernel=rbf;, score=0.410 total time=   1.8s\n",
      "[CV 5/5] END ........C=1, gamma=0.1, kernel=rbf;, score=0.418 total time=   1.8s\n",
      "[CV 1/5] END .......C=1, gamma=0.01, kernel=rbf;, score=0.350 total time=   1.7s\n",
      "[CV 2/5] END .......C=1, gamma=0.01, kernel=rbf;, score=0.370 total time=   1.7s\n",
      "[CV 3/5] END .......C=1, gamma=0.01, kernel=rbf;, score=0.362 total time=   1.7s\n",
      "[CV 4/5] END .......C=1, gamma=0.01, kernel=rbf;, score=0.359 total time=   1.7s\n",
      "[CV 5/5] END .......C=1, gamma=0.01, kernel=rbf;, score=0.359 total time=   1.7s\n",
      "[CV 1/5] END ......C=1, gamma=0.001, kernel=rbf;, score=0.264 total time=   1.9s\n",
      "[CV 2/5] END ......C=1, gamma=0.001, kernel=rbf;, score=0.334 total time=   1.9s\n",
      "[CV 3/5] END ......C=1, gamma=0.001, kernel=rbf;, score=0.311 total time=   1.9s\n",
      "[CV 4/5] END ......C=1, gamma=0.001, kernel=rbf;, score=0.298 total time=   1.9s\n",
      "[CV 5/5] END ......C=1, gamma=0.001, kernel=rbf;, score=0.295 total time=   1.9s\n",
      "[CV 1/5] END .....C=1, gamma=0.0001, kernel=rbf;, score=0.239 total time=   1.9s\n",
      "[CV 2/5] END .....C=1, gamma=0.0001, kernel=rbf;, score=0.337 total time=   1.9s\n",
      "[CV 3/5] END .....C=1, gamma=0.0001, kernel=rbf;, score=0.310 total time=   1.9s\n",
      "[CV 4/5] END .....C=1, gamma=0.0001, kernel=rbf;, score=0.282 total time=   1.9s\n",
      "[CV 5/5] END .....C=1, gamma=0.0001, kernel=rbf;, score=0.292 total time=   1.9s\n",
      "[CV 1/5] END .........C=10, gamma=1, kernel=rbf;, score=0.232 total time=   2.0s\n",
      "[CV 2/5] END .........C=10, gamma=1, kernel=rbf;, score=0.232 total time=   2.0s\n",
      "[CV 3/5] END .........C=10, gamma=1, kernel=rbf;, score=0.231 total time=   2.0s\n",
      "[CV 4/5] END .........C=10, gamma=1, kernel=rbf;, score=0.228 total time=   1.9s\n",
      "[CV 5/5] END .........C=10, gamma=1, kernel=rbf;, score=0.244 total time=   2.0s\n",
      "[CV 1/5] END .......C=10, gamma=0.1, kernel=rbf;, score=0.422 total time=   2.0s\n",
      "[CV 2/5] END .......C=10, gamma=0.1, kernel=rbf;, score=0.419 total time=   2.0s\n",
      "[CV 3/5] END .......C=10, gamma=0.1, kernel=rbf;, score=0.431 total time=   1.9s\n",
      "[CV 4/5] END .......C=10, gamma=0.1, kernel=rbf;, score=0.420 total time=   1.9s\n",
      "[CV 5/5] END .......C=10, gamma=0.1, kernel=rbf;, score=0.430 total time=   1.9s\n",
      "[CV 1/5] END ......C=10, gamma=0.01, kernel=rbf;, score=0.365 total time=   1.5s\n",
      "[CV 2/5] END ......C=10, gamma=0.01, kernel=rbf;, score=0.406 total time=   1.5s\n",
      "[CV 3/5] END ......C=10, gamma=0.01, kernel=rbf;, score=0.366 total time=   1.5s\n",
      "[CV 4/5] END ......C=10, gamma=0.01, kernel=rbf;, score=0.369 total time=   1.5s\n",
      "[CV 5/5] END ......C=10, gamma=0.01, kernel=rbf;, score=0.390 total time=   1.5s\n",
      "[CV 1/5] END .....C=10, gamma=0.001, kernel=rbf;, score=0.342 total time=   1.7s\n",
      "[CV 2/5] END .....C=10, gamma=0.001, kernel=rbf;, score=0.362 total time=   1.7s\n",
      "[CV 3/5] END .....C=10, gamma=0.001, kernel=rbf;, score=0.372 total time=   1.7s\n",
      "[CV 4/5] END .....C=10, gamma=0.001, kernel=rbf;, score=0.359 total time=   1.7s\n",
      "[CV 5/5] END .....C=10, gamma=0.001, kernel=rbf;, score=0.359 total time=   1.7s\n",
      "[CV 1/5] END ....C=10, gamma=0.0001, kernel=rbf;, score=0.264 total time=   1.9s\n",
      "[CV 2/5] END ....C=10, gamma=0.0001, kernel=rbf;, score=0.337 total time=   1.9s\n",
      "[CV 3/5] END ....C=10, gamma=0.0001, kernel=rbf;, score=0.310 total time=   2.0s\n",
      "[CV 4/5] END ....C=10, gamma=0.0001, kernel=rbf;, score=0.295 total time=   1.9s\n",
      "[CV 5/5] END ....C=10, gamma=0.0001, kernel=rbf;, score=0.292 total time=   1.9s\n",
      "[CV 1/5] END ........C=100, gamma=1, kernel=rbf;, score=0.232 total time=   2.0s\n",
      "[CV 2/5] END ........C=100, gamma=1, kernel=rbf;, score=0.232 total time=   1.9s\n",
      "[CV 3/5] END ........C=100, gamma=1, kernel=rbf;, score=0.231 total time=   1.9s\n",
      "[CV 4/5] END ........C=100, gamma=1, kernel=rbf;, score=0.228 total time=   1.9s\n",
      "[CV 5/5] END ........C=100, gamma=1, kernel=rbf;, score=0.244 total time=   2.0s\n",
      "[CV 1/5] END ......C=100, gamma=0.1, kernel=rbf;, score=0.424 total time=   2.0s\n",
      "[CV 2/5] END ......C=100, gamma=0.1, kernel=rbf;, score=0.419 total time=   2.0s\n",
      "[CV 3/5] END ......C=100, gamma=0.1, kernel=rbf;, score=0.431 total time=   2.0s\n",
      "[CV 4/5] END ......C=100, gamma=0.1, kernel=rbf;, score=0.420 total time=   2.0s\n",
      "[CV 5/5] END ......C=100, gamma=0.1, kernel=rbf;, score=0.430 total time=   2.0s\n",
      "[CV 1/5] END .....C=100, gamma=0.01, kernel=rbf;, score=0.375 total time=   2.0s\n",
      "[CV 2/5] END .....C=100, gamma=0.01, kernel=rbf;, score=0.403 total time=   2.0s\n",
      "[CV 3/5] END .....C=100, gamma=0.01, kernel=rbf;, score=0.377 total time=   1.9s\n",
      "[CV 4/5] END .....C=100, gamma=0.01, kernel=rbf;, score=0.389 total time=   1.9s\n",
      "[CV 5/5] END .....C=100, gamma=0.01, kernel=rbf;, score=0.384 total time=   2.0s\n",
      "[CV 1/5] END ....C=100, gamma=0.001, kernel=rbf;, score=0.336 total time=   1.5s\n",
      "[CV 2/5] END ....C=100, gamma=0.001, kernel=rbf;, score=0.376 total time=   1.5s\n",
      "[CV 3/5] END ....C=100, gamma=0.001, kernel=rbf;, score=0.346 total time=   1.5s\n",
      "[CV 4/5] END ....C=100, gamma=0.001, kernel=rbf;, score=0.352 total time=   1.5s\n",
      "[CV 5/5] END ....C=100, gamma=0.001, kernel=rbf;, score=0.362 total time=   1.5s\n",
      "[CV 1/5] END ...C=100, gamma=0.0001, kernel=rbf;, score=0.339 total time=   1.7s\n",
      "[CV 2/5] END ...C=100, gamma=0.0001, kernel=rbf;, score=0.363 total time=   1.7s\n",
      "[CV 3/5] END ...C=100, gamma=0.0001, kernel=rbf;, score=0.370 total time=   1.7s\n",
      "[CV 4/5] END ...C=100, gamma=0.0001, kernel=rbf;, score=0.357 total time=   1.7s\n",
      "[CV 5/5] END ...C=100, gamma=0.0001, kernel=rbf;, score=0.359 total time=   1.7s\n",
      "[CV 1/5] END .......C=1000, gamma=1, kernel=rbf;, score=0.232 total time=   2.0s\n",
      "[CV 2/5] END .......C=1000, gamma=1, kernel=rbf;, score=0.232 total time=   2.0s\n",
      "[CV 3/5] END .......C=1000, gamma=1, kernel=rbf;, score=0.231 total time=   2.0s\n",
      "[CV 4/5] END .......C=1000, gamma=1, kernel=rbf;, score=0.228 total time=   2.0s\n",
      "[CV 5/5] END .......C=1000, gamma=1, kernel=rbf;, score=0.244 total time=   2.0s\n",
      "[CV 1/5] END .....C=1000, gamma=0.1, kernel=rbf;, score=0.424 total time=   2.0s\n",
      "[CV 2/5] END .....C=1000, gamma=0.1, kernel=rbf;, score=0.419 total time=   1.9s\n",
      "[CV 3/5] END .....C=1000, gamma=0.1, kernel=rbf;, score=0.431 total time=   1.9s\n",
      "[CV 4/5] END .....C=1000, gamma=0.1, kernel=rbf;, score=0.420 total time=   2.0s\n",
      "[CV 5/5] END .....C=1000, gamma=0.1, kernel=rbf;, score=0.430 total time=   1.9s\n",
      "[CV 1/5] END ....C=1000, gamma=0.01, kernel=rbf;, score=0.370 total time=   2.0s\n",
      "[CV 2/5] END ....C=1000, gamma=0.01, kernel=rbf;, score=0.393 total time=   2.0s\n",
      "[CV 3/5] END ....C=1000, gamma=0.01, kernel=rbf;, score=0.372 total time=   1.9s\n",
      "[CV 4/5] END ....C=1000, gamma=0.01, kernel=rbf;, score=0.389 total time=   2.0s\n",
      "[CV 5/5] END ....C=1000, gamma=0.01, kernel=rbf;, score=0.400 total time=   2.0s\n",
      "[CV 1/5] END ...C=1000, gamma=0.001, kernel=rbf;, score=0.337 total time=   1.7s\n",
      "[CV 2/5] END ...C=1000, gamma=0.001, kernel=rbf;, score=0.368 total time=   1.7s\n",
      "[CV 3/5] END ...C=1000, gamma=0.001, kernel=rbf;, score=0.341 total time=   1.7s\n",
      "[CV 4/5] END ...C=1000, gamma=0.001, kernel=rbf;, score=0.362 total time=   1.8s\n",
      "[CV 5/5] END ...C=1000, gamma=0.001, kernel=rbf;, score=0.361 total time=   1.7s\n",
      "[CV 1/5] END ..C=1000, gamma=0.0001, kernel=rbf;, score=0.336 total time=   1.5s\n",
      "[CV 2/5] END ..C=1000, gamma=0.0001, kernel=rbf;, score=0.372 total time=   1.5s\n",
      "[CV 3/5] END ..C=1000, gamma=0.0001, kernel=rbf;, score=0.344 total time=   1.5s\n",
      "[CV 4/5] END ..C=1000, gamma=0.0001, kernel=rbf;, score=0.351 total time=   1.5s\n",
      "[CV 5/5] END ..C=1000, gamma=0.0001, kernel=rbf;, score=0.357 total time=   1.5s\n"
     ]
    },
    {
     "data": {
      "text/html": [
       "<style>#sk-container-id-3 {color: black;background-color: white;}#sk-container-id-3 pre{padding: 0;}#sk-container-id-3 div.sk-toggleable {background-color: white;}#sk-container-id-3 label.sk-toggleable__label {cursor: pointer;display: block;width: 100%;margin-bottom: 0;padding: 0.3em;box-sizing: border-box;text-align: center;}#sk-container-id-3 label.sk-toggleable__label-arrow:before {content: \"▸\";float: left;margin-right: 0.25em;color: #696969;}#sk-container-id-3 label.sk-toggleable__label-arrow:hover:before {color: black;}#sk-container-id-3 div.sk-estimator:hover label.sk-toggleable__label-arrow:before {color: black;}#sk-container-id-3 div.sk-toggleable__content {max-height: 0;max-width: 0;overflow: hidden;text-align: left;background-color: #f0f8ff;}#sk-container-id-3 div.sk-toggleable__content pre {margin: 0.2em;color: black;border-radius: 0.25em;background-color: #f0f8ff;}#sk-container-id-3 input.sk-toggleable__control:checked~div.sk-toggleable__content {max-height: 200px;max-width: 100%;overflow: auto;}#sk-container-id-3 input.sk-toggleable__control:checked~label.sk-toggleable__label-arrow:before {content: \"▾\";}#sk-container-id-3 div.sk-estimator input.sk-toggleable__control:checked~label.sk-toggleable__label {background-color: #d4ebff;}#sk-container-id-3 div.sk-label input.sk-toggleable__control:checked~label.sk-toggleable__label {background-color: #d4ebff;}#sk-container-id-3 input.sk-hidden--visually {border: 0;clip: rect(1px 1px 1px 1px);clip: rect(1px, 1px, 1px, 1px);height: 1px;margin: -1px;overflow: hidden;padding: 0;position: absolute;width: 1px;}#sk-container-id-3 div.sk-estimator {font-family: monospace;background-color: #f0f8ff;border: 1px dotted black;border-radius: 0.25em;box-sizing: border-box;margin-bottom: 0.5em;}#sk-container-id-3 div.sk-estimator:hover {background-color: #d4ebff;}#sk-container-id-3 div.sk-parallel-item::after {content: \"\";width: 100%;border-bottom: 1px solid gray;flex-grow: 1;}#sk-container-id-3 div.sk-label:hover label.sk-toggleable__label {background-color: #d4ebff;}#sk-container-id-3 div.sk-serial::before {content: \"\";position: absolute;border-left: 1px solid gray;box-sizing: border-box;top: 0;bottom: 0;left: 50%;z-index: 0;}#sk-container-id-3 div.sk-serial {display: flex;flex-direction: column;align-items: center;background-color: white;padding-right: 0.2em;padding-left: 0.2em;position: relative;}#sk-container-id-3 div.sk-item {position: relative;z-index: 1;}#sk-container-id-3 div.sk-parallel {display: flex;align-items: stretch;justify-content: center;background-color: white;position: relative;}#sk-container-id-3 div.sk-item::before, #sk-container-id-3 div.sk-parallel-item::before {content: \"\";position: absolute;border-left: 1px solid gray;box-sizing: border-box;top: 0;bottom: 0;left: 50%;z-index: -1;}#sk-container-id-3 div.sk-parallel-item {display: flex;flex-direction: column;z-index: 1;position: relative;background-color: white;}#sk-container-id-3 div.sk-parallel-item:first-child::after {align-self: flex-end;width: 50%;}#sk-container-id-3 div.sk-parallel-item:last-child::after {align-self: flex-start;width: 50%;}#sk-container-id-3 div.sk-parallel-item:only-child::after {width: 0;}#sk-container-id-3 div.sk-dashed-wrapped {border: 1px dashed gray;margin: 0 0.4em 0.5em 0.4em;box-sizing: border-box;padding-bottom: 0.4em;background-color: white;}#sk-container-id-3 div.sk-label label {font-family: monospace;font-weight: bold;display: inline-block;line-height: 1.2em;}#sk-container-id-3 div.sk-label-container {text-align: center;}#sk-container-id-3 div.sk-container {/* jupyter's `normalize.less` sets `[hidden] { display: none; }` but bootstrap.min.css set `[hidden] { display: none !important; }` so we also need the `!important` here to be able to override the default hidden behavior on the sphinx rendered scikit-learn.org. See: https://github.com/scikit-learn/scikit-learn/issues/21755 */display: inline-block !important;position: relative;}#sk-container-id-3 div.sk-text-repr-fallback {display: none;}</style><div id=\"sk-container-id-3\" class=\"sk-top-container\"><div class=\"sk-text-repr-fallback\"><pre>GridSearchCV(estimator=SVC(),\n",
       "             param_grid={&#x27;C&#x27;: [0.1, 1, 10, 100, 1000],\n",
       "                         &#x27;gamma&#x27;: [1, 0.1, 0.01, 0.001, 0.0001],\n",
       "                         &#x27;kernel&#x27;: [&#x27;rbf&#x27;]},\n",
       "             verbose=3)</pre><b>In a Jupyter environment, please rerun this cell to show the HTML representation or trust the notebook. <br />On GitHub, the HTML representation is unable to render, please try loading this page with nbviewer.org.</b></div><div class=\"sk-container\" hidden><div class=\"sk-item sk-dashed-wrapped\"><div class=\"sk-label-container\"><div class=\"sk-label sk-toggleable\"><input class=\"sk-toggleable__control sk-hidden--visually\" id=\"sk-estimator-id-3\" type=\"checkbox\" ><label for=\"sk-estimator-id-3\" class=\"sk-toggleable__label sk-toggleable__label-arrow\">GridSearchCV</label><div class=\"sk-toggleable__content\"><pre>GridSearchCV(estimator=SVC(),\n",
       "             param_grid={&#x27;C&#x27;: [0.1, 1, 10, 100, 1000],\n",
       "                         &#x27;gamma&#x27;: [1, 0.1, 0.01, 0.001, 0.0001],\n",
       "                         &#x27;kernel&#x27;: [&#x27;rbf&#x27;]},\n",
       "             verbose=3)</pre></div></div></div><div class=\"sk-parallel\"><div class=\"sk-parallel-item\"><div class=\"sk-item\"><div class=\"sk-label-container\"><div class=\"sk-label sk-toggleable\"><input class=\"sk-toggleable__control sk-hidden--visually\" id=\"sk-estimator-id-4\" type=\"checkbox\" ><label for=\"sk-estimator-id-4\" class=\"sk-toggleable__label sk-toggleable__label-arrow\">estimator: SVC</label><div class=\"sk-toggleable__content\"><pre>SVC()</pre></div></div></div><div class=\"sk-serial\"><div class=\"sk-item\"><div class=\"sk-estimator sk-toggleable\"><input class=\"sk-toggleable__control sk-hidden--visually\" id=\"sk-estimator-id-5\" type=\"checkbox\" ><label for=\"sk-estimator-id-5\" class=\"sk-toggleable__label sk-toggleable__label-arrow\">SVC</label><div class=\"sk-toggleable__content\"><pre>SVC()</pre></div></div></div></div></div></div></div></div></div></div>"
      ],
      "text/plain": [
       "GridSearchCV(estimator=SVC(),\n",
       "             param_grid={'C': [0.1, 1, 10, 100, 1000],\n",
       "                         'gamma': [1, 0.1, 0.01, 0.001, 0.0001],\n",
       "                         'kernel': ['rbf']},\n",
       "             verbose=3)"
      ]
     },
     "execution_count": 157,
     "metadata": {},
     "output_type": "execute_result"
    }
   ],
   "source": [
    "param_grid = {'C': [0.1, 1, 10, 100, 1000],\n",
    "                'gamma': [1, 0.1, 0.01, 0.001, 0.0001],\n",
    "                'kernel': ['rbf']}\n",
    "\n",
    "grid = GridSearchCV(SVC(), param_grid, refit=True, verbose=3)\n",
    "grid.fit(X_train, y_train)"
   ]
  },
  {
   "cell_type": "code",
   "execution_count": 158,
   "metadata": {},
   "outputs": [
    {
     "name": "stdout",
     "output_type": "stream",
     "text": [
      "{'C': 100, 'gamma': 0.1, 'kernel': 'rbf'}\n",
      "SVC(C=100, gamma=0.1)\n"
     ]
    }
   ],
   "source": [
    "print(grid.best_params_)\n",
    "print(grid.best_estimator_)"
   ]
  },
  {
   "cell_type": "code",
   "execution_count": 159,
   "metadata": {},
   "outputs": [
    {
     "name": "stdout",
     "output_type": "stream",
     "text": [
      "              precision    recall  f1-score   support\n",
      "\n",
      "           0       0.39      0.38      0.38       111\n",
      "           1       0.90      0.68      0.77       111\n",
      "           2       0.32      0.25      0.28       111\n",
      "           3       0.60      0.47      0.53       111\n",
      "           4       0.34      0.43      0.38       111\n",
      "           5       0.26      0.49      0.34       111\n",
      "           6       0.83      0.44      0.58       111\n",
      "\n",
      "    accuracy                           0.45       777\n",
      "   macro avg       0.52      0.45      0.47       777\n",
      "weighted avg       0.52      0.45      0.47       777\n",
      "\n"
     ]
    }
   ],
   "source": [
    "grip_predictions = grid.predict(X_test)\n",
    "\n",
    "print(classification_report(y_test, grip_predictions))"
   ]
  },
  {
   "cell_type": "code",
   "execution_count": 160,
   "metadata": {},
   "outputs": [],
   "source": [
    "store_results(grid, accuracy(grid, X_train, y_train), accuracy(grid, X_test, y_test))"
   ]
  },
  {
   "cell_type": "code",
   "execution_count": 164,
   "metadata": {},
   "outputs": [
    {
     "data": {
      "text/html": [
       "<style>#sk-container-id-4 {color: black;background-color: white;}#sk-container-id-4 pre{padding: 0;}#sk-container-id-4 div.sk-toggleable {background-color: white;}#sk-container-id-4 label.sk-toggleable__label {cursor: pointer;display: block;width: 100%;margin-bottom: 0;padding: 0.3em;box-sizing: border-box;text-align: center;}#sk-container-id-4 label.sk-toggleable__label-arrow:before {content: \"▸\";float: left;margin-right: 0.25em;color: #696969;}#sk-container-id-4 label.sk-toggleable__label-arrow:hover:before {color: black;}#sk-container-id-4 div.sk-estimator:hover label.sk-toggleable__label-arrow:before {color: black;}#sk-container-id-4 div.sk-toggleable__content {max-height: 0;max-width: 0;overflow: hidden;text-align: left;background-color: #f0f8ff;}#sk-container-id-4 div.sk-toggleable__content pre {margin: 0.2em;color: black;border-radius: 0.25em;background-color: #f0f8ff;}#sk-container-id-4 input.sk-toggleable__control:checked~div.sk-toggleable__content {max-height: 200px;max-width: 100%;overflow: auto;}#sk-container-id-4 input.sk-toggleable__control:checked~label.sk-toggleable__label-arrow:before {content: \"▾\";}#sk-container-id-4 div.sk-estimator input.sk-toggleable__control:checked~label.sk-toggleable__label {background-color: #d4ebff;}#sk-container-id-4 div.sk-label input.sk-toggleable__control:checked~label.sk-toggleable__label {background-color: #d4ebff;}#sk-container-id-4 input.sk-hidden--visually {border: 0;clip: rect(1px 1px 1px 1px);clip: rect(1px, 1px, 1px, 1px);height: 1px;margin: -1px;overflow: hidden;padding: 0;position: absolute;width: 1px;}#sk-container-id-4 div.sk-estimator {font-family: monospace;background-color: #f0f8ff;border: 1px dotted black;border-radius: 0.25em;box-sizing: border-box;margin-bottom: 0.5em;}#sk-container-id-4 div.sk-estimator:hover {background-color: #d4ebff;}#sk-container-id-4 div.sk-parallel-item::after {content: \"\";width: 100%;border-bottom: 1px solid gray;flex-grow: 1;}#sk-container-id-4 div.sk-label:hover label.sk-toggleable__label {background-color: #d4ebff;}#sk-container-id-4 div.sk-serial::before {content: \"\";position: absolute;border-left: 1px solid gray;box-sizing: border-box;top: 0;bottom: 0;left: 50%;z-index: 0;}#sk-container-id-4 div.sk-serial {display: flex;flex-direction: column;align-items: center;background-color: white;padding-right: 0.2em;padding-left: 0.2em;position: relative;}#sk-container-id-4 div.sk-item {position: relative;z-index: 1;}#sk-container-id-4 div.sk-parallel {display: flex;align-items: stretch;justify-content: center;background-color: white;position: relative;}#sk-container-id-4 div.sk-item::before, #sk-container-id-4 div.sk-parallel-item::before {content: \"\";position: absolute;border-left: 1px solid gray;box-sizing: border-box;top: 0;bottom: 0;left: 50%;z-index: -1;}#sk-container-id-4 div.sk-parallel-item {display: flex;flex-direction: column;z-index: 1;position: relative;background-color: white;}#sk-container-id-4 div.sk-parallel-item:first-child::after {align-self: flex-end;width: 50%;}#sk-container-id-4 div.sk-parallel-item:last-child::after {align-self: flex-start;width: 50%;}#sk-container-id-4 div.sk-parallel-item:only-child::after {width: 0;}#sk-container-id-4 div.sk-dashed-wrapped {border: 1px dashed gray;margin: 0 0.4em 0.5em 0.4em;box-sizing: border-box;padding-bottom: 0.4em;background-color: white;}#sk-container-id-4 div.sk-label label {font-family: monospace;font-weight: bold;display: inline-block;line-height: 1.2em;}#sk-container-id-4 div.sk-label-container {text-align: center;}#sk-container-id-4 div.sk-container {/* jupyter's `normalize.less` sets `[hidden] { display: none; }` but bootstrap.min.css set `[hidden] { display: none !important; }` so we also need the `!important` here to be able to override the default hidden behavior on the sphinx rendered scikit-learn.org. See: https://github.com/scikit-learn/scikit-learn/issues/21755 */display: inline-block !important;position: relative;}#sk-container-id-4 div.sk-text-repr-fallback {display: none;}</style><div id=\"sk-container-id-4\" class=\"sk-top-container\"><div class=\"sk-text-repr-fallback\"><pre>SVC(C=100, gamma=0.1)</pre><b>In a Jupyter environment, please rerun this cell to show the HTML representation or trust the notebook. <br />On GitHub, the HTML representation is unable to render, please try loading this page with nbviewer.org.</b></div><div class=\"sk-container\" hidden><div class=\"sk-item\"><div class=\"sk-estimator sk-toggleable\"><input class=\"sk-toggleable__control sk-hidden--visually\" id=\"sk-estimator-id-6\" type=\"checkbox\" checked><label for=\"sk-estimator-id-6\" class=\"sk-toggleable__label sk-toggleable__label-arrow\">SVC</label><div class=\"sk-toggleable__content\"><pre>SVC(C=100, gamma=0.1)</pre></div></div></div></div></div>"
      ],
      "text/plain": [
       "SVC(C=100, gamma=0.1)"
      ]
     },
     "execution_count": 164,
     "metadata": {},
     "output_type": "execute_result"
    }
   ],
   "source": [
    "best_svm = SVC(C=100, gamma=0.1, kernel='rbf')\n",
    "best_svm.fit(X_train, y_train)"
   ]
  },
  {
   "cell_type": "code",
   "execution_count": 165,
   "metadata": {},
   "outputs": [],
   "source": [
    "y_pred_best_svm = best_svm.predict(X_test)"
   ]
  },
  {
   "cell_type": "code",
   "execution_count": 166,
   "metadata": {},
   "outputs": [],
   "source": [
    "store_results(best_svm, accuracy(best_svm, X_train, y_train), accuracy(best_svm, X_test, y_test))"
   ]
  },
  {
   "cell_type": "code",
   "execution_count": 171,
   "metadata": {},
   "outputs": [
    {
     "name": "stdout",
     "output_type": "stream",
     "text": [
      "Fitting 5 folds for each of 18 candidates, totalling 90 fits\n",
      "[CV 1/5] END .......criterion=gini, max_depth=3;, score=0.264 total time=   0.4s\n",
      "[CV 2/5] END .......criterion=gini, max_depth=3;, score=0.255 total time=   0.4s\n",
      "[CV 3/5] END .......criterion=gini, max_depth=3;, score=0.262 total time=   0.4s\n",
      "[CV 4/5] END .......criterion=gini, max_depth=3;, score=0.279 total time=   0.4s\n",
      "[CV 5/5] END .......criterion=gini, max_depth=3;, score=0.218 total time=   0.4s\n",
      "[CV 1/5] END .......criterion=gini, max_depth=5;, score=0.254 total time=   0.6s\n",
      "[CV 2/5] END .......criterion=gini, max_depth=5;, score=0.250 total time=   0.6s\n",
      "[CV 3/5] END .......criterion=gini, max_depth=5;, score=0.269 total time=   0.6s\n",
      "[CV 4/5] END .......criterion=gini, max_depth=5;, score=0.261 total time=   0.6s\n",
      "[CV 5/5] END .......criterion=gini, max_depth=5;, score=0.238 total time=   0.6s\n",
      "[CV 1/5] END .......criterion=gini, max_depth=7;, score=0.255 total time=   0.8s\n",
      "[CV 2/5] END .......criterion=gini, max_depth=7;, score=0.265 total time=   0.8s\n",
      "[CV 3/5] END .......criterion=gini, max_depth=7;, score=0.243 total time=   0.8s\n",
      "[CV 4/5] END .......criterion=gini, max_depth=7;, score=0.292 total time=   0.8s\n",
      "[CV 5/5] END .......criterion=gini, max_depth=7;, score=0.239 total time=   0.8s\n",
      "[CV 1/5] END .......criterion=gini, max_depth=9;, score=0.250 total time=   0.9s\n",
      "[CV 2/5] END .......criterion=gini, max_depth=9;, score=0.254 total time=   0.9s\n",
      "[CV 3/5] END .......criterion=gini, max_depth=9;, score=0.251 total time=   0.9s\n",
      "[CV 4/5] END .......criterion=gini, max_depth=9;, score=0.234 total time=   0.9s\n",
      "[CV 5/5] END .......criterion=gini, max_depth=9;, score=0.238 total time=   0.9s\n",
      "[CV 1/5] END ......criterion=gini, max_depth=11;, score=0.247 total time=   1.0s\n",
      "[CV 2/5] END ......criterion=gini, max_depth=11;, score=0.259 total time=   1.0s\n",
      "[CV 3/5] END ......criterion=gini, max_depth=11;, score=0.246 total time=   1.0s\n",
      "[CV 4/5] END ......criterion=gini, max_depth=11;, score=0.239 total time=   1.0s\n",
      "[CV 5/5] END ......criterion=gini, max_depth=11;, score=0.220 total time=   1.0s\n",
      "[CV 1/5] END ......criterion=gini, max_depth=13;, score=0.249 total time=   1.0s\n",
      "[CV 2/5] END ......criterion=gini, max_depth=13;, score=0.260 total time=   1.0s\n",
      "[CV 3/5] END ......criterion=gini, max_depth=13;, score=0.249 total time=   1.1s\n",
      "[CV 4/5] END ......criterion=gini, max_depth=13;, score=0.238 total time=   1.1s\n",
      "[CV 5/5] END ......criterion=gini, max_depth=13;, score=0.244 total time=   1.1s\n",
      "[CV 1/5] END ....criterion=entropy, max_depth=3;, score=0.245 total time=   0.6s\n",
      "[CV 2/5] END ....criterion=entropy, max_depth=3;, score=0.236 total time=   0.6s\n",
      "[CV 3/5] END ....criterion=entropy, max_depth=3;, score=0.243 total time=   0.6s\n",
      "[CV 4/5] END ....criterion=entropy, max_depth=3;, score=0.254 total time=   0.6s\n",
      "[CV 5/5] END ....criterion=entropy, max_depth=3;, score=0.230 total time=   0.6s\n",
      "[CV 1/5] END ....criterion=entropy, max_depth=5;, score=0.257 total time=   1.0s\n",
      "[CV 2/5] END ....criterion=entropy, max_depth=5;, score=0.226 total time=   1.0s\n",
      "[CV 3/5] END ....criterion=entropy, max_depth=5;, score=0.267 total time=   1.0s\n",
      "[CV 4/5] END ....criterion=entropy, max_depth=5;, score=0.257 total time=   1.0s\n",
      "[CV 5/5] END ....criterion=entropy, max_depth=5;, score=0.228 total time=   1.0s\n",
      "[CV 1/5] END ....criterion=entropy, max_depth=7;, score=0.250 total time=   1.3s\n",
      "[CV 2/5] END ....criterion=entropy, max_depth=7;, score=0.226 total time=   1.3s\n",
      "[CV 3/5] END ....criterion=entropy, max_depth=7;, score=0.234 total time=   1.3s\n",
      "[CV 4/5] END ....criterion=entropy, max_depth=7;, score=0.259 total time=   1.3s\n",
      "[CV 5/5] END ....criterion=entropy, max_depth=7;, score=0.218 total time=   1.3s\n",
      "[CV 1/5] END ....criterion=entropy, max_depth=9;, score=0.252 total time=   1.6s\n",
      "[CV 2/5] END ....criterion=entropy, max_depth=9;, score=0.219 total time=   1.6s\n",
      "[CV 3/5] END ....criterion=entropy, max_depth=9;, score=0.226 total time=   1.6s\n",
      "[CV 4/5] END ....criterion=entropy, max_depth=9;, score=0.252 total time=   1.6s\n",
      "[CV 5/5] END ....criterion=entropy, max_depth=9;, score=0.241 total time=   1.6s\n",
      "[CV 1/5] END ...criterion=entropy, max_depth=11;, score=0.255 total time=   1.8s\n",
      "[CV 2/5] END ...criterion=entropy, max_depth=11;, score=0.236 total time=   1.7s\n",
      "[CV 3/5] END ...criterion=entropy, max_depth=11;, score=0.220 total time=   1.7s\n",
      "[CV 4/5] END ...criterion=entropy, max_depth=11;, score=0.257 total time=   1.7s\n",
      "[CV 5/5] END ...criterion=entropy, max_depth=11;, score=0.246 total time=   1.7s\n",
      "[CV 1/5] END ...criterion=entropy, max_depth=13;, score=0.247 total time=   1.8s\n",
      "[CV 2/5] END ...criterion=entropy, max_depth=13;, score=0.229 total time=   1.8s\n",
      "[CV 3/5] END ...criterion=entropy, max_depth=13;, score=0.215 total time=   1.8s\n",
      "[CV 4/5] END ...criterion=entropy, max_depth=13;, score=0.241 total time=   1.7s\n",
      "[CV 5/5] END ...criterion=entropy, max_depth=13;, score=0.251 total time=   1.7s\n",
      "[CV 1/5] END ...criterion=log_loss, max_depth=3;, score=0.245 total time=   0.6s\n",
      "[CV 2/5] END ...criterion=log_loss, max_depth=3;, score=0.236 total time=   0.6s\n",
      "[CV 3/5] END ...criterion=log_loss, max_depth=3;, score=0.243 total time=   0.7s\n",
      "[CV 4/5] END ...criterion=log_loss, max_depth=3;, score=0.254 total time=   0.6s\n",
      "[CV 5/5] END ...criterion=log_loss, max_depth=3;, score=0.230 total time=   0.6s\n",
      "[CV 1/5] END ...criterion=log_loss, max_depth=5;, score=0.257 total time=   1.0s\n",
      "[CV 2/5] END ...criterion=log_loss, max_depth=5;, score=0.224 total time=   1.0s\n",
      "[CV 3/5] END ...criterion=log_loss, max_depth=5;, score=0.267 total time=   1.0s\n",
      "[CV 4/5] END ...criterion=log_loss, max_depth=5;, score=0.259 total time=   1.0s\n",
      "[CV 5/5] END ...criterion=log_loss, max_depth=5;, score=0.228 total time=   1.0s\n",
      "[CV 1/5] END ...criterion=log_loss, max_depth=7;, score=0.247 total time=   1.4s\n",
      "[CV 2/5] END ...criterion=log_loss, max_depth=7;, score=0.226 total time=   1.4s\n",
      "[CV 3/5] END ...criterion=log_loss, max_depth=7;, score=0.228 total time=   1.4s\n",
      "[CV 4/5] END ...criterion=log_loss, max_depth=7;, score=0.256 total time=   1.4s\n",
      "[CV 5/5] END ...criterion=log_loss, max_depth=7;, score=0.220 total time=   1.4s\n",
      "[CV 1/5] END ...criterion=log_loss, max_depth=9;, score=0.237 total time=   1.6s\n",
      "[CV 2/5] END ...criterion=log_loss, max_depth=9;, score=0.234 total time=   1.6s\n",
      "[CV 3/5] END ...criterion=log_loss, max_depth=9;, score=0.238 total time=   1.7s\n",
      "[CV 4/5] END ...criterion=log_loss, max_depth=9;, score=0.267 total time=   1.6s\n",
      "[CV 5/5] END ...criterion=log_loss, max_depth=9;, score=0.234 total time=   1.6s\n",
      "[CV 1/5] END ..criterion=log_loss, max_depth=11;, score=0.257 total time=   1.8s\n",
      "[CV 2/5] END ..criterion=log_loss, max_depth=11;, score=0.247 total time=   1.7s\n",
      "[CV 3/5] END ..criterion=log_loss, max_depth=11;, score=0.220 total time=   1.8s\n",
      "[CV 4/5] END ..criterion=log_loss, max_depth=11;, score=0.256 total time=   1.7s\n",
      "[CV 5/5] END ..criterion=log_loss, max_depth=11;, score=0.230 total time=   1.7s\n",
      "[CV 1/5] END ..criterion=log_loss, max_depth=13;, score=0.242 total time=   1.8s\n",
      "[CV 2/5] END ..criterion=log_loss, max_depth=13;, score=0.250 total time=   1.8s\n",
      "[CV 3/5] END ..criterion=log_loss, max_depth=13;, score=0.226 total time=   1.8s\n",
      "[CV 4/5] END ..criterion=log_loss, max_depth=13;, score=0.233 total time=   1.8s\n",
      "[CV 5/5] END ..criterion=log_loss, max_depth=13;, score=0.234 total time=   1.8s\n"
     ]
    },
    {
     "data": {
      "text/html": [
       "<style>#sk-container-id-6 {color: black;background-color: white;}#sk-container-id-6 pre{padding: 0;}#sk-container-id-6 div.sk-toggleable {background-color: white;}#sk-container-id-6 label.sk-toggleable__label {cursor: pointer;display: block;width: 100%;margin-bottom: 0;padding: 0.3em;box-sizing: border-box;text-align: center;}#sk-container-id-6 label.sk-toggleable__label-arrow:before {content: \"▸\";float: left;margin-right: 0.25em;color: #696969;}#sk-container-id-6 label.sk-toggleable__label-arrow:hover:before {color: black;}#sk-container-id-6 div.sk-estimator:hover label.sk-toggleable__label-arrow:before {color: black;}#sk-container-id-6 div.sk-toggleable__content {max-height: 0;max-width: 0;overflow: hidden;text-align: left;background-color: #f0f8ff;}#sk-container-id-6 div.sk-toggleable__content pre {margin: 0.2em;color: black;border-radius: 0.25em;background-color: #f0f8ff;}#sk-container-id-6 input.sk-toggleable__control:checked~div.sk-toggleable__content {max-height: 200px;max-width: 100%;overflow: auto;}#sk-container-id-6 input.sk-toggleable__control:checked~label.sk-toggleable__label-arrow:before {content: \"▾\";}#sk-container-id-6 div.sk-estimator input.sk-toggleable__control:checked~label.sk-toggleable__label {background-color: #d4ebff;}#sk-container-id-6 div.sk-label input.sk-toggleable__control:checked~label.sk-toggleable__label {background-color: #d4ebff;}#sk-container-id-6 input.sk-hidden--visually {border: 0;clip: rect(1px 1px 1px 1px);clip: rect(1px, 1px, 1px, 1px);height: 1px;margin: -1px;overflow: hidden;padding: 0;position: absolute;width: 1px;}#sk-container-id-6 div.sk-estimator {font-family: monospace;background-color: #f0f8ff;border: 1px dotted black;border-radius: 0.25em;box-sizing: border-box;margin-bottom: 0.5em;}#sk-container-id-6 div.sk-estimator:hover {background-color: #d4ebff;}#sk-container-id-6 div.sk-parallel-item::after {content: \"\";width: 100%;border-bottom: 1px solid gray;flex-grow: 1;}#sk-container-id-6 div.sk-label:hover label.sk-toggleable__label {background-color: #d4ebff;}#sk-container-id-6 div.sk-serial::before {content: \"\";position: absolute;border-left: 1px solid gray;box-sizing: border-box;top: 0;bottom: 0;left: 50%;z-index: 0;}#sk-container-id-6 div.sk-serial {display: flex;flex-direction: column;align-items: center;background-color: white;padding-right: 0.2em;padding-left: 0.2em;position: relative;}#sk-container-id-6 div.sk-item {position: relative;z-index: 1;}#sk-container-id-6 div.sk-parallel {display: flex;align-items: stretch;justify-content: center;background-color: white;position: relative;}#sk-container-id-6 div.sk-item::before, #sk-container-id-6 div.sk-parallel-item::before {content: \"\";position: absolute;border-left: 1px solid gray;box-sizing: border-box;top: 0;bottom: 0;left: 50%;z-index: -1;}#sk-container-id-6 div.sk-parallel-item {display: flex;flex-direction: column;z-index: 1;position: relative;background-color: white;}#sk-container-id-6 div.sk-parallel-item:first-child::after {align-self: flex-end;width: 50%;}#sk-container-id-6 div.sk-parallel-item:last-child::after {align-self: flex-start;width: 50%;}#sk-container-id-6 div.sk-parallel-item:only-child::after {width: 0;}#sk-container-id-6 div.sk-dashed-wrapped {border: 1px dashed gray;margin: 0 0.4em 0.5em 0.4em;box-sizing: border-box;padding-bottom: 0.4em;background-color: white;}#sk-container-id-6 div.sk-label label {font-family: monospace;font-weight: bold;display: inline-block;line-height: 1.2em;}#sk-container-id-6 div.sk-label-container {text-align: center;}#sk-container-id-6 div.sk-container {/* jupyter's `normalize.less` sets `[hidden] { display: none; }` but bootstrap.min.css set `[hidden] { display: none !important; }` so we also need the `!important` here to be able to override the default hidden behavior on the sphinx rendered scikit-learn.org. See: https://github.com/scikit-learn/scikit-learn/issues/21755 */display: inline-block !important;position: relative;}#sk-container-id-6 div.sk-text-repr-fallback {display: none;}</style><div id=\"sk-container-id-6\" class=\"sk-top-container\"><div class=\"sk-text-repr-fallback\"><pre>GridSearchCV(estimator=DecisionTreeClassifier(),\n",
       "             param_grid={&#x27;criterion&#x27;: [&#x27;gini&#x27;, &#x27;entropy&#x27;, &#x27;log_loss&#x27;],\n",
       "                         &#x27;max_depth&#x27;: [3, 5, 7, 9, 11, 13]},\n",
       "             verbose=3)</pre><b>In a Jupyter environment, please rerun this cell to show the HTML representation or trust the notebook. <br />On GitHub, the HTML representation is unable to render, please try loading this page with nbviewer.org.</b></div><div class=\"sk-container\" hidden><div class=\"sk-item sk-dashed-wrapped\"><div class=\"sk-label-container\"><div class=\"sk-label sk-toggleable\"><input class=\"sk-toggleable__control sk-hidden--visually\" id=\"sk-estimator-id-10\" type=\"checkbox\" ><label for=\"sk-estimator-id-10\" class=\"sk-toggleable__label sk-toggleable__label-arrow\">GridSearchCV</label><div class=\"sk-toggleable__content\"><pre>GridSearchCV(estimator=DecisionTreeClassifier(),\n",
       "             param_grid={&#x27;criterion&#x27;: [&#x27;gini&#x27;, &#x27;entropy&#x27;, &#x27;log_loss&#x27;],\n",
       "                         &#x27;max_depth&#x27;: [3, 5, 7, 9, 11, 13]},\n",
       "             verbose=3)</pre></div></div></div><div class=\"sk-parallel\"><div class=\"sk-parallel-item\"><div class=\"sk-item\"><div class=\"sk-label-container\"><div class=\"sk-label sk-toggleable\"><input class=\"sk-toggleable__control sk-hidden--visually\" id=\"sk-estimator-id-11\" type=\"checkbox\" ><label for=\"sk-estimator-id-11\" class=\"sk-toggleable__label sk-toggleable__label-arrow\">estimator: DecisionTreeClassifier</label><div class=\"sk-toggleable__content\"><pre>DecisionTreeClassifier()</pre></div></div></div><div class=\"sk-serial\"><div class=\"sk-item\"><div class=\"sk-estimator sk-toggleable\"><input class=\"sk-toggleable__control sk-hidden--visually\" id=\"sk-estimator-id-12\" type=\"checkbox\" ><label for=\"sk-estimator-id-12\" class=\"sk-toggleable__label sk-toggleable__label-arrow\">DecisionTreeClassifier</label><div class=\"sk-toggleable__content\"><pre>DecisionTreeClassifier()</pre></div></div></div></div></div></div></div></div></div></div>"
      ],
      "text/plain": [
       "GridSearchCV(estimator=DecisionTreeClassifier(),\n",
       "             param_grid={'criterion': ['gini', 'entropy', 'log_loss'],\n",
       "                         'max_depth': [3, 5, 7, 9, 11, 13]},\n",
       "             verbose=3)"
      ]
     },
     "execution_count": 171,
     "metadata": {},
     "output_type": "execute_result"
    }
   ],
   "source": [
    "# Best Parameters for Decision Tree Classifier\n",
    "param_grid = {'max_depth': [3, 5, 7, 9, 11, 13],\n",
    "            'criterion': ['gini', 'entropy', 'log_loss']}\n",
    "\n",
    "grid = GridSearchCV(DecisionTreeClassifier(), param_grid, verbose=3)\n",
    "grid.fit(X_train, y_train)"
   ]
  },
  {
   "cell_type": "code",
   "execution_count": 172,
   "metadata": {},
   "outputs": [
    {
     "name": "stdout",
     "output_type": "stream",
     "text": [
      "{'criterion': 'gini', 'max_depth': 7}\n",
      "DecisionTreeClassifier(max_depth=7)\n"
     ]
    }
   ],
   "source": [
    "print(grid.best_params_)\n",
    "print(grid.best_estimator_)"
   ]
  },
  {
   "cell_type": "code",
   "execution_count": 173,
   "metadata": {},
   "outputs": [
    {
     "data": {
      "text/plain": [
       "(0.46690694626474444, 0.23037323037323038)"
      ]
     },
     "execution_count": 173,
     "metadata": {},
     "output_type": "execute_result"
    }
   ],
   "source": [
    "accuracy(grid, X_train, y_train), accuracy(grid, X_test, y_test)"
   ]
  },
  {
   "cell_type": "code",
   "execution_count": 174,
   "metadata": {},
   "outputs": [
    {
     "name": "stdout",
     "output_type": "stream",
     "text": [
      "Fitting 5 folds for each of 48 candidates, totalling 240 fits\n",
      "[CV 1/5] END algorithm=auto, n_neighbors=3, weights=uniform;, score=0.336 total time=   0.0s\n",
      "[CV 2/5] END algorithm=auto, n_neighbors=3, weights=uniform;, score=0.293 total time=   0.0s\n",
      "[CV 3/5] END algorithm=auto, n_neighbors=3, weights=uniform;, score=0.330 total time=   0.0s\n",
      "[CV 4/5] END algorithm=auto, n_neighbors=3, weights=uniform;, score=0.295 total time=   0.0s\n",
      "[CV 5/5] END algorithm=auto, n_neighbors=3, weights=uniform;, score=0.303 total time=   0.0s\n",
      "[CV 1/5] END algorithm=auto, n_neighbors=3, weights=distance;, score=0.349 total time=   0.0s\n",
      "[CV 2/5] END algorithm=auto, n_neighbors=3, weights=distance;, score=0.340 total time=   0.0s\n",
      "[CV 3/5] END algorithm=auto, n_neighbors=3, weights=distance;, score=0.349 total time=   0.0s\n",
      "[CV 4/5] END algorithm=auto, n_neighbors=3, weights=distance;, score=0.320 total time=   0.0s\n",
      "[CV 5/5] END algorithm=auto, n_neighbors=3, weights=distance;, score=0.315 total time=   0.0s\n",
      "[CV 1/5] END algorithm=auto, n_neighbors=5, weights=uniform;, score=0.316 total time=   0.0s\n",
      "[CV 2/5] END algorithm=auto, n_neighbors=5, weights=uniform;, score=0.349 total time=   0.0s\n",
      "[CV 3/5] END algorithm=auto, n_neighbors=5, weights=uniform;, score=0.330 total time=   0.0s\n",
      "[CV 4/5] END algorithm=auto, n_neighbors=5, weights=uniform;, score=0.334 total time=   0.0s\n",
      "[CV 5/5] END algorithm=auto, n_neighbors=5, weights=uniform;, score=0.287 total time=   0.0s\n",
      "[CV 1/5] END algorithm=auto, n_neighbors=5, weights=distance;, score=0.345 total time=   0.0s\n",
      "[CV 2/5] END algorithm=auto, n_neighbors=5, weights=distance;, score=0.378 total time=   0.0s\n",
      "[CV 3/5] END algorithm=auto, n_neighbors=5, weights=distance;, score=0.375 total time=   0.0s\n",
      "[CV 4/5] END algorithm=auto, n_neighbors=5, weights=distance;, score=0.341 total time=   0.0s\n",
      "[CV 5/5] END algorithm=auto, n_neighbors=5, weights=distance;, score=0.321 total time=   0.0s\n",
      "[CV 1/5] END algorithm=auto, n_neighbors=7, weights=uniform;, score=0.318 total time=   0.0s\n",
      "[CV 2/5] END algorithm=auto, n_neighbors=7, weights=uniform;, score=0.332 total time=   0.0s\n",
      "[CV 3/5] END algorithm=auto, n_neighbors=7, weights=uniform;, score=0.336 total time=   0.0s\n",
      "[CV 4/5] END algorithm=auto, n_neighbors=7, weights=uniform;, score=0.308 total time=   0.0s\n",
      "[CV 5/5] END algorithm=auto, n_neighbors=7, weights=uniform;, score=0.280 total time=   0.0s\n",
      "[CV 1/5] END algorithm=auto, n_neighbors=7, weights=distance;, score=0.345 total time=   0.0s\n",
      "[CV 2/5] END algorithm=auto, n_neighbors=7, weights=distance;, score=0.370 total time=   0.0s\n",
      "[CV 3/5] END algorithm=auto, n_neighbors=7, weights=distance;, score=0.372 total time=   0.0s\n",
      "[CV 4/5] END algorithm=auto, n_neighbors=7, weights=distance;, score=0.326 total time=   0.0s\n",
      "[CV 5/5] END algorithm=auto, n_neighbors=7, weights=distance;, score=0.325 total time=   0.0s\n",
      "[CV 1/5] END algorithm=auto, n_neighbors=9, weights=uniform;, score=0.339 total time=   0.0s\n",
      "[CV 2/5] END algorithm=auto, n_neighbors=9, weights=uniform;, score=0.332 total time=   0.0s\n",
      "[CV 3/5] END algorithm=auto, n_neighbors=9, weights=uniform;, score=0.318 total time=   0.0s\n",
      "[CV 4/5] END algorithm=auto, n_neighbors=9, weights=uniform;, score=0.331 total time=   0.0s\n",
      "[CV 5/5] END algorithm=auto, n_neighbors=9, weights=uniform;, score=0.292 total time=   0.0s\n",
      "[CV 1/5] END algorithm=auto, n_neighbors=9, weights=distance;, score=0.337 total time=   0.0s\n",
      "[CV 2/5] END algorithm=auto, n_neighbors=9, weights=distance;, score=0.360 total time=   0.0s\n",
      "[CV 3/5] END algorithm=auto, n_neighbors=9, weights=distance;, score=0.367 total time=   0.0s\n",
      "[CV 4/5] END algorithm=auto, n_neighbors=9, weights=distance;, score=0.354 total time=   0.0s\n",
      "[CV 5/5] END algorithm=auto, n_neighbors=9, weights=distance;, score=0.321 total time=   0.0s\n",
      "[CV 1/5] END algorithm=auto, n_neighbors=11, weights=uniform;, score=0.321 total time=   0.0s\n",
      "[CV 2/5] END algorithm=auto, n_neighbors=11, weights=uniform;, score=0.319 total time=   0.0s\n",
      "[CV 3/5] END algorithm=auto, n_neighbors=11, weights=uniform;, score=0.323 total time=   0.0s\n",
      "[CV 4/5] END algorithm=auto, n_neighbors=11, weights=uniform;, score=0.331 total time=   0.0s\n",
      "[CV 5/5] END algorithm=auto, n_neighbors=11, weights=uniform;, score=0.290 total time=   0.0s\n",
      "[CV 1/5] END algorithm=auto, n_neighbors=11, weights=distance;, score=0.347 total time=   0.0s\n",
      "[CV 2/5] END algorithm=auto, n_neighbors=11, weights=distance;, score=0.347 total time=   0.0s\n",
      "[CV 3/5] END algorithm=auto, n_neighbors=11, weights=distance;, score=0.370 total time=   0.0s\n",
      "[CV 4/5] END algorithm=auto, n_neighbors=11, weights=distance;, score=0.351 total time=   0.0s\n",
      "[CV 5/5] END algorithm=auto, n_neighbors=11, weights=distance;, score=0.321 total time=   0.0s\n",
      "[CV 1/5] END algorithm=auto, n_neighbors=13, weights=uniform;, score=0.313 total time=   0.0s\n",
      "[CV 2/5] END algorithm=auto, n_neighbors=13, weights=uniform;, score=0.322 total time=   0.0s\n",
      "[CV 3/5] END algorithm=auto, n_neighbors=13, weights=uniform;, score=0.310 total time=   0.0s\n",
      "[CV 4/5] END algorithm=auto, n_neighbors=13, weights=uniform;, score=0.318 total time=   0.0s\n",
      "[CV 5/5] END algorithm=auto, n_neighbors=13, weights=uniform;, score=0.300 total time=   0.0s\n",
      "[CV 1/5] END algorithm=auto, n_neighbors=13, weights=distance;, score=0.337 total time=   0.0s\n",
      "[CV 2/5] END algorithm=auto, n_neighbors=13, weights=distance;, score=0.340 total time=   0.0s\n",
      "[CV 3/5] END algorithm=auto, n_neighbors=13, weights=distance;, score=0.346 total time=   0.0s\n",
      "[CV 4/5] END algorithm=auto, n_neighbors=13, weights=distance;, score=0.344 total time=   0.0s\n",
      "[CV 5/5] END algorithm=auto, n_neighbors=13, weights=distance;, score=0.331 total time=   0.0s\n",
      "[CV 1/5] END algorithm=ball_tree, n_neighbors=3, weights=uniform;, score=0.336 total time=   1.0s\n",
      "[CV 2/5] END algorithm=ball_tree, n_neighbors=3, weights=uniform;, score=0.293 total time=   1.0s\n",
      "[CV 3/5] END algorithm=ball_tree, n_neighbors=3, weights=uniform;, score=0.330 total time=   1.0s\n",
      "[CV 4/5] END algorithm=ball_tree, n_neighbors=3, weights=uniform;, score=0.295 total time=   1.0s\n",
      "[CV 5/5] END algorithm=ball_tree, n_neighbors=3, weights=uniform;, score=0.303 total time=   1.0s\n",
      "[CV 1/5] END algorithm=ball_tree, n_neighbors=3, weights=distance;, score=0.349 total time=   1.0s\n",
      "[CV 2/5] END algorithm=ball_tree, n_neighbors=3, weights=distance;, score=0.340 total time=   1.0s\n",
      "[CV 3/5] END algorithm=ball_tree, n_neighbors=3, weights=distance;, score=0.349 total time=   1.0s\n",
      "[CV 4/5] END algorithm=ball_tree, n_neighbors=3, weights=distance;, score=0.320 total time=   1.0s\n",
      "[CV 5/5] END algorithm=ball_tree, n_neighbors=3, weights=distance;, score=0.315 total time=   1.0s\n",
      "[CV 1/5] END algorithm=ball_tree, n_neighbors=5, weights=uniform;, score=0.316 total time=   1.0s\n",
      "[CV 2/5] END algorithm=ball_tree, n_neighbors=5, weights=uniform;, score=0.349 total time=   1.0s\n",
      "[CV 3/5] END algorithm=ball_tree, n_neighbors=5, weights=uniform;, score=0.330 total time=   1.0s\n",
      "[CV 4/5] END algorithm=ball_tree, n_neighbors=5, weights=uniform;, score=0.334 total time=   1.0s\n",
      "[CV 5/5] END algorithm=ball_tree, n_neighbors=5, weights=uniform;, score=0.287 total time=   1.0s\n",
      "[CV 1/5] END algorithm=ball_tree, n_neighbors=5, weights=distance;, score=0.345 total time=   1.0s\n",
      "[CV 2/5] END algorithm=ball_tree, n_neighbors=5, weights=distance;, score=0.378 total time=   1.0s\n",
      "[CV 3/5] END algorithm=ball_tree, n_neighbors=5, weights=distance;, score=0.375 total time=   1.0s\n",
      "[CV 4/5] END algorithm=ball_tree, n_neighbors=5, weights=distance;, score=0.341 total time=   1.0s\n",
      "[CV 5/5] END algorithm=ball_tree, n_neighbors=5, weights=distance;, score=0.321 total time=   1.0s\n",
      "[CV 1/5] END algorithm=ball_tree, n_neighbors=7, weights=uniform;, score=0.318 total time=   1.0s\n",
      "[CV 2/5] END algorithm=ball_tree, n_neighbors=7, weights=uniform;, score=0.332 total time=   1.0s\n",
      "[CV 3/5] END algorithm=ball_tree, n_neighbors=7, weights=uniform;, score=0.336 total time=   1.1s\n",
      "[CV 4/5] END algorithm=ball_tree, n_neighbors=7, weights=uniform;, score=0.308 total time=   1.0s\n",
      "[CV 5/5] END algorithm=ball_tree, n_neighbors=7, weights=uniform;, score=0.280 total time=   1.0s\n",
      "[CV 1/5] END algorithm=ball_tree, n_neighbors=7, weights=distance;, score=0.345 total time=   1.1s\n",
      "[CV 2/5] END algorithm=ball_tree, n_neighbors=7, weights=distance;, score=0.370 total time=   1.0s\n",
      "[CV 3/5] END algorithm=ball_tree, n_neighbors=7, weights=distance;, score=0.372 total time=   1.0s\n",
      "[CV 4/5] END algorithm=ball_tree, n_neighbors=7, weights=distance;, score=0.326 total time=   1.0s\n",
      "[CV 5/5] END algorithm=ball_tree, n_neighbors=7, weights=distance;, score=0.325 total time=   1.0s\n",
      "[CV 1/5] END algorithm=ball_tree, n_neighbors=9, weights=uniform;, score=0.339 total time=   1.1s\n",
      "[CV 2/5] END algorithm=ball_tree, n_neighbors=9, weights=uniform;, score=0.332 total time=   1.1s\n",
      "[CV 3/5] END algorithm=ball_tree, n_neighbors=9, weights=uniform;, score=0.318 total time=   1.0s\n",
      "[CV 4/5] END algorithm=ball_tree, n_neighbors=9, weights=uniform;, score=0.331 total time=   1.0s\n",
      "[CV 5/5] END algorithm=ball_tree, n_neighbors=9, weights=uniform;, score=0.292 total time=   1.0s\n",
      "[CV 1/5] END algorithm=ball_tree, n_neighbors=9, weights=distance;, score=0.337 total time=   1.0s\n",
      "[CV 2/5] END algorithm=ball_tree, n_neighbors=9, weights=distance;, score=0.360 total time=   1.0s\n",
      "[CV 3/5] END algorithm=ball_tree, n_neighbors=9, weights=distance;, score=0.367 total time=   1.0s\n",
      "[CV 4/5] END algorithm=ball_tree, n_neighbors=9, weights=distance;, score=0.354 total time=   1.0s\n",
      "[CV 5/5] END algorithm=ball_tree, n_neighbors=9, weights=distance;, score=0.321 total time=   1.0s\n",
      "[CV 1/5] END algorithm=ball_tree, n_neighbors=11, weights=uniform;, score=0.321 total time=   1.0s\n",
      "[CV 2/5] END algorithm=ball_tree, n_neighbors=11, weights=uniform;, score=0.319 total time=   1.1s\n",
      "[CV 3/5] END algorithm=ball_tree, n_neighbors=11, weights=uniform;, score=0.323 total time=   1.0s\n",
      "[CV 4/5] END algorithm=ball_tree, n_neighbors=11, weights=uniform;, score=0.331 total time=   1.0s\n",
      "[CV 5/5] END algorithm=ball_tree, n_neighbors=11, weights=uniform;, score=0.290 total time=   1.0s\n",
      "[CV 1/5] END algorithm=ball_tree, n_neighbors=11, weights=distance;, score=0.347 total time=   1.0s\n",
      "[CV 2/5] END algorithm=ball_tree, n_neighbors=11, weights=distance;, score=0.347 total time=   1.0s\n",
      "[CV 3/5] END algorithm=ball_tree, n_neighbors=11, weights=distance;, score=0.370 total time=   1.0s\n",
      "[CV 4/5] END algorithm=ball_tree, n_neighbors=11, weights=distance;, score=0.351 total time=   1.0s\n",
      "[CV 5/5] END algorithm=ball_tree, n_neighbors=11, weights=distance;, score=0.321 total time=   1.0s\n",
      "[CV 1/5] END algorithm=ball_tree, n_neighbors=13, weights=uniform;, score=0.313 total time=   1.0s\n",
      "[CV 2/5] END algorithm=ball_tree, n_neighbors=13, weights=uniform;, score=0.322 total time=   1.0s\n",
      "[CV 3/5] END algorithm=ball_tree, n_neighbors=13, weights=uniform;, score=0.310 total time=   1.0s\n",
      "[CV 4/5] END algorithm=ball_tree, n_neighbors=13, weights=uniform;, score=0.318 total time=   1.0s\n",
      "[CV 5/5] END algorithm=ball_tree, n_neighbors=13, weights=uniform;, score=0.300 total time=   1.0s\n",
      "[CV 1/5] END algorithm=ball_tree, n_neighbors=13, weights=distance;, score=0.337 total time=   1.0s\n",
      "[CV 2/5] END algorithm=ball_tree, n_neighbors=13, weights=distance;, score=0.340 total time=   1.0s\n",
      "[CV 3/5] END algorithm=ball_tree, n_neighbors=13, weights=distance;, score=0.346 total time=   1.0s\n",
      "[CV 4/5] END algorithm=ball_tree, n_neighbors=13, weights=distance;, score=0.344 total time=   1.0s\n",
      "[CV 5/5] END algorithm=ball_tree, n_neighbors=13, weights=distance;, score=0.331 total time=   1.0s\n",
      "[CV 1/5] END algorithm=kd_tree, n_neighbors=3, weights=uniform;, score=0.336 total time=   1.1s\n",
      "[CV 2/5] END algorithm=kd_tree, n_neighbors=3, weights=uniform;, score=0.293 total time=   1.1s\n",
      "[CV 3/5] END algorithm=kd_tree, n_neighbors=3, weights=uniform;, score=0.330 total time=   1.1s\n",
      "[CV 4/5] END algorithm=kd_tree, n_neighbors=3, weights=uniform;, score=0.295 total time=   1.1s\n",
      "[CV 5/5] END algorithm=kd_tree, n_neighbors=3, weights=uniform;, score=0.303 total time=   1.1s\n",
      "[CV 1/5] END algorithm=kd_tree, n_neighbors=3, weights=distance;, score=0.349 total time=   1.1s\n",
      "[CV 2/5] END algorithm=kd_tree, n_neighbors=3, weights=distance;, score=0.340 total time=   1.1s\n",
      "[CV 3/5] END algorithm=kd_tree, n_neighbors=3, weights=distance;, score=0.349 total time=   1.1s\n",
      "[CV 4/5] END algorithm=kd_tree, n_neighbors=3, weights=distance;, score=0.320 total time=   1.1s\n",
      "[CV 5/5] END algorithm=kd_tree, n_neighbors=3, weights=distance;, score=0.315 total time=   1.1s\n",
      "[CV 1/5] END algorithm=kd_tree, n_neighbors=5, weights=uniform;, score=0.316 total time=   1.1s\n",
      "[CV 2/5] END algorithm=kd_tree, n_neighbors=5, weights=uniform;, score=0.349 total time=   1.1s\n",
      "[CV 3/5] END algorithm=kd_tree, n_neighbors=5, weights=uniform;, score=0.330 total time=   1.1s\n",
      "[CV 4/5] END algorithm=kd_tree, n_neighbors=5, weights=uniform;, score=0.334 total time=   1.1s\n",
      "[CV 5/5] END algorithm=kd_tree, n_neighbors=5, weights=uniform;, score=0.287 total time=   1.2s\n",
      "[CV 1/5] END algorithm=kd_tree, n_neighbors=5, weights=distance;, score=0.345 total time=   1.1s\n",
      "[CV 2/5] END algorithm=kd_tree, n_neighbors=5, weights=distance;, score=0.378 total time=   1.1s\n",
      "[CV 3/5] END algorithm=kd_tree, n_neighbors=5, weights=distance;, score=0.375 total time=   1.1s\n",
      "[CV 4/5] END algorithm=kd_tree, n_neighbors=5, weights=distance;, score=0.341 total time=   1.2s\n",
      "[CV 5/5] END algorithm=kd_tree, n_neighbors=5, weights=distance;, score=0.321 total time=   1.2s\n",
      "[CV 1/5] END algorithm=kd_tree, n_neighbors=7, weights=uniform;, score=0.318 total time=   1.2s\n",
      "[CV 2/5] END algorithm=kd_tree, n_neighbors=7, weights=uniform;, score=0.332 total time=   1.2s\n",
      "[CV 3/5] END algorithm=kd_tree, n_neighbors=7, weights=uniform;, score=0.336 total time=   1.2s\n",
      "[CV 4/5] END algorithm=kd_tree, n_neighbors=7, weights=uniform;, score=0.308 total time=   1.2s\n",
      "[CV 5/5] END algorithm=kd_tree, n_neighbors=7, weights=uniform;, score=0.280 total time=   1.2s\n",
      "[CV 1/5] END algorithm=kd_tree, n_neighbors=7, weights=distance;, score=0.345 total time=   1.2s\n",
      "[CV 2/5] END algorithm=kd_tree, n_neighbors=7, weights=distance;, score=0.370 total time=   1.2s\n",
      "[CV 3/5] END algorithm=kd_tree, n_neighbors=7, weights=distance;, score=0.372 total time=   1.1s\n",
      "[CV 4/5] END algorithm=kd_tree, n_neighbors=7, weights=distance;, score=0.326 total time=   1.1s\n",
      "[CV 5/5] END algorithm=kd_tree, n_neighbors=7, weights=distance;, score=0.325 total time=   1.1s\n",
      "[CV 1/5] END algorithm=kd_tree, n_neighbors=9, weights=uniform;, score=0.339 total time=   1.2s\n",
      "[CV 2/5] END algorithm=kd_tree, n_neighbors=9, weights=uniform;, score=0.332 total time=   1.2s\n",
      "[CV 3/5] END algorithm=kd_tree, n_neighbors=9, weights=uniform;, score=0.318 total time=   1.2s\n",
      "[CV 4/5] END algorithm=kd_tree, n_neighbors=9, weights=uniform;, score=0.331 total time=   1.2s\n",
      "[CV 5/5] END algorithm=kd_tree, n_neighbors=9, weights=uniform;, score=0.292 total time=   1.2s\n",
      "[CV 1/5] END algorithm=kd_tree, n_neighbors=9, weights=distance;, score=0.337 total time=   1.2s\n",
      "[CV 2/5] END algorithm=kd_tree, n_neighbors=9, weights=distance;, score=0.360 total time=   1.2s\n",
      "[CV 3/5] END algorithm=kd_tree, n_neighbors=9, weights=distance;, score=0.367 total time=   1.2s\n",
      "[CV 4/5] END algorithm=kd_tree, n_neighbors=9, weights=distance;, score=0.354 total time=   1.2s\n",
      "[CV 5/5] END algorithm=kd_tree, n_neighbors=9, weights=distance;, score=0.321 total time=   1.2s\n",
      "[CV 1/5] END algorithm=kd_tree, n_neighbors=11, weights=uniform;, score=0.321 total time=   1.2s\n",
      "[CV 2/5] END algorithm=kd_tree, n_neighbors=11, weights=uniform;, score=0.319 total time=   1.2s\n",
      "[CV 3/5] END algorithm=kd_tree, n_neighbors=11, weights=uniform;, score=0.323 total time=   1.2s\n",
      "[CV 4/5] END algorithm=kd_tree, n_neighbors=11, weights=uniform;, score=0.331 total time=   1.2s\n",
      "[CV 5/5] END algorithm=kd_tree, n_neighbors=11, weights=uniform;, score=0.290 total time=   1.2s\n",
      "[CV 1/5] END algorithm=kd_tree, n_neighbors=11, weights=distance;, score=0.347 total time=   1.2s\n",
      "[CV 2/5] END algorithm=kd_tree, n_neighbors=11, weights=distance;, score=0.347 total time=   1.2s\n",
      "[CV 3/5] END algorithm=kd_tree, n_neighbors=11, weights=distance;, score=0.370 total time=   1.2s\n",
      "[CV 4/5] END algorithm=kd_tree, n_neighbors=11, weights=distance;, score=0.351 total time=   1.2s\n",
      "[CV 5/5] END algorithm=kd_tree, n_neighbors=11, weights=distance;, score=0.321 total time=   1.1s\n",
      "[CV 1/5] END algorithm=kd_tree, n_neighbors=13, weights=uniform;, score=0.313 total time=   1.2s\n",
      "[CV 2/5] END algorithm=kd_tree, n_neighbors=13, weights=uniform;, score=0.322 total time=   1.1s\n",
      "[CV 3/5] END algorithm=kd_tree, n_neighbors=13, weights=uniform;, score=0.310 total time=   1.1s\n",
      "[CV 4/5] END algorithm=kd_tree, n_neighbors=13, weights=uniform;, score=0.318 total time=   1.2s\n",
      "[CV 5/5] END algorithm=kd_tree, n_neighbors=13, weights=uniform;, score=0.300 total time=   1.2s\n",
      "[CV 1/5] END algorithm=kd_tree, n_neighbors=13, weights=distance;, score=0.337 total time=   1.2s\n",
      "[CV 2/5] END algorithm=kd_tree, n_neighbors=13, weights=distance;, score=0.340 total time=   1.2s\n",
      "[CV 3/5] END algorithm=kd_tree, n_neighbors=13, weights=distance;, score=0.346 total time=   1.2s\n",
      "[CV 4/5] END algorithm=kd_tree, n_neighbors=13, weights=distance;, score=0.344 total time=   1.1s\n",
      "[CV 5/5] END algorithm=kd_tree, n_neighbors=13, weights=distance;, score=0.331 total time=   1.1s\n",
      "[CV 1/5] END algorithm=brute, n_neighbors=3, weights=uniform;, score=0.336 total time=   0.0s\n",
      "[CV 2/5] END algorithm=brute, n_neighbors=3, weights=uniform;, score=0.293 total time=   0.0s\n",
      "[CV 3/5] END algorithm=brute, n_neighbors=3, weights=uniform;, score=0.330 total time=   0.0s\n",
      "[CV 4/5] END algorithm=brute, n_neighbors=3, weights=uniform;, score=0.295 total time=   0.0s\n",
      "[CV 5/5] END algorithm=brute, n_neighbors=3, weights=uniform;, score=0.303 total time=   0.0s\n",
      "[CV 1/5] END algorithm=brute, n_neighbors=3, weights=distance;, score=0.349 total time=   0.0s\n",
      "[CV 2/5] END algorithm=brute, n_neighbors=3, weights=distance;, score=0.340 total time=   0.0s\n",
      "[CV 3/5] END algorithm=brute, n_neighbors=3, weights=distance;, score=0.349 total time=   0.0s\n",
      "[CV 4/5] END algorithm=brute, n_neighbors=3, weights=distance;, score=0.320 total time=   0.0s\n",
      "[CV 5/5] END algorithm=brute, n_neighbors=3, weights=distance;, score=0.315 total time=   0.0s\n",
      "[CV 1/5] END algorithm=brute, n_neighbors=5, weights=uniform;, score=0.316 total time=   0.0s\n",
      "[CV 2/5] END algorithm=brute, n_neighbors=5, weights=uniform;, score=0.349 total time=   0.0s\n",
      "[CV 3/5] END algorithm=brute, n_neighbors=5, weights=uniform;, score=0.330 total time=   0.0s\n",
      "[CV 4/5] END algorithm=brute, n_neighbors=5, weights=uniform;, score=0.334 total time=   0.0s\n",
      "[CV 5/5] END algorithm=brute, n_neighbors=5, weights=uniform;, score=0.287 total time=   0.0s\n",
      "[CV 1/5] END algorithm=brute, n_neighbors=5, weights=distance;, score=0.345 total time=   0.0s\n",
      "[CV 2/5] END algorithm=brute, n_neighbors=5, weights=distance;, score=0.378 total time=   0.0s\n",
      "[CV 3/5] END algorithm=brute, n_neighbors=5, weights=distance;, score=0.375 total time=   0.0s\n",
      "[CV 4/5] END algorithm=brute, n_neighbors=5, weights=distance;, score=0.341 total time=   0.0s\n",
      "[CV 5/5] END algorithm=brute, n_neighbors=5, weights=distance;, score=0.321 total time=   0.0s\n",
      "[CV 1/5] END algorithm=brute, n_neighbors=7, weights=uniform;, score=0.318 total time=   0.0s\n",
      "[CV 2/5] END algorithm=brute, n_neighbors=7, weights=uniform;, score=0.332 total time=   0.0s\n",
      "[CV 3/5] END algorithm=brute, n_neighbors=7, weights=uniform;, score=0.336 total time=   0.0s\n",
      "[CV 4/5] END algorithm=brute, n_neighbors=7, weights=uniform;, score=0.308 total time=   0.0s\n",
      "[CV 5/5] END algorithm=brute, n_neighbors=7, weights=uniform;, score=0.280 total time=   0.0s\n",
      "[CV 1/5] END algorithm=brute, n_neighbors=7, weights=distance;, score=0.345 total time=   0.0s\n",
      "[CV 2/5] END algorithm=brute, n_neighbors=7, weights=distance;, score=0.370 total time=   0.0s\n",
      "[CV 3/5] END algorithm=brute, n_neighbors=7, weights=distance;, score=0.372 total time=   0.0s\n",
      "[CV 4/5] END algorithm=brute, n_neighbors=7, weights=distance;, score=0.326 total time=   0.0s\n",
      "[CV 5/5] END algorithm=brute, n_neighbors=7, weights=distance;, score=0.325 total time=   0.0s\n",
      "[CV 1/5] END algorithm=brute, n_neighbors=9, weights=uniform;, score=0.339 total time=   0.0s\n",
      "[CV 2/5] END algorithm=brute, n_neighbors=9, weights=uniform;, score=0.332 total time=   0.0s\n",
      "[CV 3/5] END algorithm=brute, n_neighbors=9, weights=uniform;, score=0.318 total time=   0.0s\n",
      "[CV 4/5] END algorithm=brute, n_neighbors=9, weights=uniform;, score=0.331 total time=   0.0s\n",
      "[CV 5/5] END algorithm=brute, n_neighbors=9, weights=uniform;, score=0.292 total time=   0.0s\n",
      "[CV 1/5] END algorithm=brute, n_neighbors=9, weights=distance;, score=0.337 total time=   0.0s\n",
      "[CV 2/5] END algorithm=brute, n_neighbors=9, weights=distance;, score=0.360 total time=   0.0s\n",
      "[CV 3/5] END algorithm=brute, n_neighbors=9, weights=distance;, score=0.367 total time=   0.0s\n",
      "[CV 4/5] END algorithm=brute, n_neighbors=9, weights=distance;, score=0.354 total time=   0.0s\n",
      "[CV 5/5] END algorithm=brute, n_neighbors=9, weights=distance;, score=0.321 total time=   0.0s\n",
      "[CV 1/5] END algorithm=brute, n_neighbors=11, weights=uniform;, score=0.321 total time=   0.0s\n",
      "[CV 2/5] END algorithm=brute, n_neighbors=11, weights=uniform;, score=0.319 total time=   0.0s\n",
      "[CV 3/5] END algorithm=brute, n_neighbors=11, weights=uniform;, score=0.323 total time=   0.0s\n",
      "[CV 4/5] END algorithm=brute, n_neighbors=11, weights=uniform;, score=0.331 total time=   0.0s\n",
      "[CV 5/5] END algorithm=brute, n_neighbors=11, weights=uniform;, score=0.290 total time=   0.0s\n",
      "[CV 1/5] END algorithm=brute, n_neighbors=11, weights=distance;, score=0.347 total time=   0.0s\n",
      "[CV 2/5] END algorithm=brute, n_neighbors=11, weights=distance;, score=0.347 total time=   0.0s\n",
      "[CV 3/5] END algorithm=brute, n_neighbors=11, weights=distance;, score=0.370 total time=   0.0s\n",
      "[CV 4/5] END algorithm=brute, n_neighbors=11, weights=distance;, score=0.351 total time=   0.0s\n",
      "[CV 5/5] END algorithm=brute, n_neighbors=11, weights=distance;, score=0.321 total time=   0.0s\n",
      "[CV 1/5] END algorithm=brute, n_neighbors=13, weights=uniform;, score=0.313 total time=   0.0s\n",
      "[CV 2/5] END algorithm=brute, n_neighbors=13, weights=uniform;, score=0.322 total time=   0.0s\n",
      "[CV 3/5] END algorithm=brute, n_neighbors=13, weights=uniform;, score=0.310 total time=   0.0s\n",
      "[CV 4/5] END algorithm=brute, n_neighbors=13, weights=uniform;, score=0.318 total time=   0.0s\n",
      "[CV 5/5] END algorithm=brute, n_neighbors=13, weights=uniform;, score=0.300 total time=   0.0s\n",
      "[CV 1/5] END algorithm=brute, n_neighbors=13, weights=distance;, score=0.337 total time=   0.0s\n",
      "[CV 2/5] END algorithm=brute, n_neighbors=13, weights=distance;, score=0.340 total time=   0.0s\n",
      "[CV 3/5] END algorithm=brute, n_neighbors=13, weights=distance;, score=0.346 total time=   0.0s\n",
      "[CV 4/5] END algorithm=brute, n_neighbors=13, weights=distance;, score=0.344 total time=   0.0s\n",
      "[CV 5/5] END algorithm=brute, n_neighbors=13, weights=distance;, score=0.331 total time=   0.0s\n"
     ]
    },
    {
     "data": {
      "text/html": [
       "<style>#sk-container-id-7 {color: black;background-color: white;}#sk-container-id-7 pre{padding: 0;}#sk-container-id-7 div.sk-toggleable {background-color: white;}#sk-container-id-7 label.sk-toggleable__label {cursor: pointer;display: block;width: 100%;margin-bottom: 0;padding: 0.3em;box-sizing: border-box;text-align: center;}#sk-container-id-7 label.sk-toggleable__label-arrow:before {content: \"▸\";float: left;margin-right: 0.25em;color: #696969;}#sk-container-id-7 label.sk-toggleable__label-arrow:hover:before {color: black;}#sk-container-id-7 div.sk-estimator:hover label.sk-toggleable__label-arrow:before {color: black;}#sk-container-id-7 div.sk-toggleable__content {max-height: 0;max-width: 0;overflow: hidden;text-align: left;background-color: #f0f8ff;}#sk-container-id-7 div.sk-toggleable__content pre {margin: 0.2em;color: black;border-radius: 0.25em;background-color: #f0f8ff;}#sk-container-id-7 input.sk-toggleable__control:checked~div.sk-toggleable__content {max-height: 200px;max-width: 100%;overflow: auto;}#sk-container-id-7 input.sk-toggleable__control:checked~label.sk-toggleable__label-arrow:before {content: \"▾\";}#sk-container-id-7 div.sk-estimator input.sk-toggleable__control:checked~label.sk-toggleable__label {background-color: #d4ebff;}#sk-container-id-7 div.sk-label input.sk-toggleable__control:checked~label.sk-toggleable__label {background-color: #d4ebff;}#sk-container-id-7 input.sk-hidden--visually {border: 0;clip: rect(1px 1px 1px 1px);clip: rect(1px, 1px, 1px, 1px);height: 1px;margin: -1px;overflow: hidden;padding: 0;position: absolute;width: 1px;}#sk-container-id-7 div.sk-estimator {font-family: monospace;background-color: #f0f8ff;border: 1px dotted black;border-radius: 0.25em;box-sizing: border-box;margin-bottom: 0.5em;}#sk-container-id-7 div.sk-estimator:hover {background-color: #d4ebff;}#sk-container-id-7 div.sk-parallel-item::after {content: \"\";width: 100%;border-bottom: 1px solid gray;flex-grow: 1;}#sk-container-id-7 div.sk-label:hover label.sk-toggleable__label {background-color: #d4ebff;}#sk-container-id-7 div.sk-serial::before {content: \"\";position: absolute;border-left: 1px solid gray;box-sizing: border-box;top: 0;bottom: 0;left: 50%;z-index: 0;}#sk-container-id-7 div.sk-serial {display: flex;flex-direction: column;align-items: center;background-color: white;padding-right: 0.2em;padding-left: 0.2em;position: relative;}#sk-container-id-7 div.sk-item {position: relative;z-index: 1;}#sk-container-id-7 div.sk-parallel {display: flex;align-items: stretch;justify-content: center;background-color: white;position: relative;}#sk-container-id-7 div.sk-item::before, #sk-container-id-7 div.sk-parallel-item::before {content: \"\";position: absolute;border-left: 1px solid gray;box-sizing: border-box;top: 0;bottom: 0;left: 50%;z-index: -1;}#sk-container-id-7 div.sk-parallel-item {display: flex;flex-direction: column;z-index: 1;position: relative;background-color: white;}#sk-container-id-7 div.sk-parallel-item:first-child::after {align-self: flex-end;width: 50%;}#sk-container-id-7 div.sk-parallel-item:last-child::after {align-self: flex-start;width: 50%;}#sk-container-id-7 div.sk-parallel-item:only-child::after {width: 0;}#sk-container-id-7 div.sk-dashed-wrapped {border: 1px dashed gray;margin: 0 0.4em 0.5em 0.4em;box-sizing: border-box;padding-bottom: 0.4em;background-color: white;}#sk-container-id-7 div.sk-label label {font-family: monospace;font-weight: bold;display: inline-block;line-height: 1.2em;}#sk-container-id-7 div.sk-label-container {text-align: center;}#sk-container-id-7 div.sk-container {/* jupyter's `normalize.less` sets `[hidden] { display: none; }` but bootstrap.min.css set `[hidden] { display: none !important; }` so we also need the `!important` here to be able to override the default hidden behavior on the sphinx rendered scikit-learn.org. See: https://github.com/scikit-learn/scikit-learn/issues/21755 */display: inline-block !important;position: relative;}#sk-container-id-7 div.sk-text-repr-fallback {display: none;}</style><div id=\"sk-container-id-7\" class=\"sk-top-container\"><div class=\"sk-text-repr-fallback\"><pre>GridSearchCV(estimator=KNeighborsClassifier(),\n",
       "             param_grid={&#x27;algorithm&#x27;: [&#x27;auto&#x27;, &#x27;ball_tree&#x27;, &#x27;kd_tree&#x27;, &#x27;brute&#x27;],\n",
       "                         &#x27;n_neighbors&#x27;: [3, 5, 7, 9, 11, 13],\n",
       "                         &#x27;weights&#x27;: [&#x27;uniform&#x27;, &#x27;distance&#x27;]},\n",
       "             verbose=3)</pre><b>In a Jupyter environment, please rerun this cell to show the HTML representation or trust the notebook. <br />On GitHub, the HTML representation is unable to render, please try loading this page with nbviewer.org.</b></div><div class=\"sk-container\" hidden><div class=\"sk-item sk-dashed-wrapped\"><div class=\"sk-label-container\"><div class=\"sk-label sk-toggleable\"><input class=\"sk-toggleable__control sk-hidden--visually\" id=\"sk-estimator-id-13\" type=\"checkbox\" ><label for=\"sk-estimator-id-13\" class=\"sk-toggleable__label sk-toggleable__label-arrow\">GridSearchCV</label><div class=\"sk-toggleable__content\"><pre>GridSearchCV(estimator=KNeighborsClassifier(),\n",
       "             param_grid={&#x27;algorithm&#x27;: [&#x27;auto&#x27;, &#x27;ball_tree&#x27;, &#x27;kd_tree&#x27;, &#x27;brute&#x27;],\n",
       "                         &#x27;n_neighbors&#x27;: [3, 5, 7, 9, 11, 13],\n",
       "                         &#x27;weights&#x27;: [&#x27;uniform&#x27;, &#x27;distance&#x27;]},\n",
       "             verbose=3)</pre></div></div></div><div class=\"sk-parallel\"><div class=\"sk-parallel-item\"><div class=\"sk-item\"><div class=\"sk-label-container\"><div class=\"sk-label sk-toggleable\"><input class=\"sk-toggleable__control sk-hidden--visually\" id=\"sk-estimator-id-14\" type=\"checkbox\" ><label for=\"sk-estimator-id-14\" class=\"sk-toggleable__label sk-toggleable__label-arrow\">estimator: KNeighborsClassifier</label><div class=\"sk-toggleable__content\"><pre>KNeighborsClassifier()</pre></div></div></div><div class=\"sk-serial\"><div class=\"sk-item\"><div class=\"sk-estimator sk-toggleable\"><input class=\"sk-toggleable__control sk-hidden--visually\" id=\"sk-estimator-id-15\" type=\"checkbox\" ><label for=\"sk-estimator-id-15\" class=\"sk-toggleable__label sk-toggleable__label-arrow\">KNeighborsClassifier</label><div class=\"sk-toggleable__content\"><pre>KNeighborsClassifier()</pre></div></div></div></div></div></div></div></div></div></div>"
      ],
      "text/plain": [
       "GridSearchCV(estimator=KNeighborsClassifier(),\n",
       "             param_grid={'algorithm': ['auto', 'ball_tree', 'kd_tree', 'brute'],\n",
       "                         'n_neighbors': [3, 5, 7, 9, 11, 13],\n",
       "                         'weights': ['uniform', 'distance']},\n",
       "             verbose=3)"
      ]
     },
     "execution_count": 174,
     "metadata": {},
     "output_type": "execute_result"
    }
   ],
   "source": [
    "# Best parameter for KNN Classifier\n",
    "param_grid = {'n_neighbors': [3, 5, 7, 9, 11, 13],\n",
    "            'weights': ['uniform', 'distance'],\n",
    "            'algorithm': ['auto', 'ball_tree', 'kd_tree', 'brute']}\n",
    "\n",
    "grid = GridSearchCV(KNeighborsClassifier(), param_grid, verbose=3)\n",
    "grid.fit(X_train, y_train)"
   ]
  },
  {
   "cell_type": "code",
   "execution_count": 175,
   "metadata": {},
   "outputs": [
    {
     "name": "stdout",
     "output_type": "stream",
     "text": [
      "{'algorithm': 'auto', 'n_neighbors': 5, 'weights': 'distance'}\n",
      "KNeighborsClassifier(weights='distance')\n"
     ]
    }
   ],
   "source": [
    "print(grid.best_params_)\n",
    "print(grid.best_estimator_)"
   ]
  },
  {
   "cell_type": "code",
   "execution_count": 176,
   "metadata": {},
   "outputs": [
    {
     "name": "stdout",
     "output_type": "stream",
     "text": [
      "Fitting 5 folds for each of 18 candidates, totalling 90 fits\n",
      "[CV 1/5] END .......criterion=gini, max_depth=3;, score=0.318 total time=   1.0s\n",
      "[CV 2/5] END .......criterion=gini, max_depth=3;, score=0.342 total time=   1.0s\n",
      "[CV 3/5] END .......criterion=gini, max_depth=3;, score=0.313 total time=   0.9s\n",
      "[CV 4/5] END .......criterion=gini, max_depth=3;, score=0.352 total time=   1.0s\n",
      "[CV 5/5] END .......criterion=gini, max_depth=3;, score=0.307 total time=   0.9s\n",
      "[CV 1/5] END .......criterion=gini, max_depth=5;, score=0.363 total time=   1.4s\n",
      "[CV 2/5] END .......criterion=gini, max_depth=5;, score=0.352 total time=   1.4s\n",
      "[CV 3/5] END .......criterion=gini, max_depth=5;, score=0.356 total time=   1.4s\n",
      "[CV 4/5] END .......criterion=gini, max_depth=5;, score=0.361 total time=   1.4s\n",
      "[CV 5/5] END .......criterion=gini, max_depth=5;, score=0.338 total time=   1.4s\n",
      "[CV 1/5] END .......criterion=gini, max_depth=7;, score=0.352 total time=   1.8s\n",
      "[CV 2/5] END .......criterion=gini, max_depth=7;, score=0.373 total time=   1.9s\n",
      "[CV 3/5] END .......criterion=gini, max_depth=7;, score=0.400 total time=   1.8s\n",
      "[CV 4/5] END .......criterion=gini, max_depth=7;, score=0.400 total time=   1.9s\n",
      "[CV 5/5] END .......criterion=gini, max_depth=7;, score=0.356 total time=   1.8s\n",
      "[CV 1/5] END .......criterion=gini, max_depth=9;, score=0.403 total time=   2.2s\n",
      "[CV 2/5] END .......criterion=gini, max_depth=9;, score=0.398 total time=   2.2s\n",
      "[CV 3/5] END .......criterion=gini, max_depth=9;, score=0.385 total time=   2.2s\n",
      "[CV 4/5] END .......criterion=gini, max_depth=9;, score=0.385 total time=   2.3s\n",
      "[CV 5/5] END .......criterion=gini, max_depth=9;, score=0.366 total time=   2.3s\n",
      "[CV 1/5] END ......criterion=gini, max_depth=11;, score=0.394 total time=   2.6s\n",
      "[CV 2/5] END ......criterion=gini, max_depth=11;, score=0.391 total time=   2.5s\n",
      "[CV 3/5] END ......criterion=gini, max_depth=11;, score=0.384 total time=   2.5s\n",
      "[CV 4/5] END ......criterion=gini, max_depth=11;, score=0.395 total time=   2.4s\n",
      "[CV 5/5] END ......criterion=gini, max_depth=11;, score=0.375 total time=   2.5s\n",
      "[CV 1/5] END ......criterion=gini, max_depth=13;, score=0.386 total time=   2.6s\n",
      "[CV 2/5] END ......criterion=gini, max_depth=13;, score=0.380 total time=   2.7s\n",
      "[CV 3/5] END ......criterion=gini, max_depth=13;, score=0.375 total time=   2.6s\n",
      "[CV 4/5] END ......criterion=gini, max_depth=13;, score=0.380 total time=   2.6s\n",
      "[CV 5/5] END ......criterion=gini, max_depth=13;, score=0.385 total time=   2.6s\n",
      "[CV 1/5] END ....criterion=entropy, max_depth=3;, score=0.306 total time=   1.6s\n",
      "[CV 2/5] END ....criterion=entropy, max_depth=3;, score=0.336 total time=   1.6s\n",
      "[CV 3/5] END ....criterion=entropy, max_depth=3;, score=0.323 total time=   1.6s\n",
      "[CV 4/5] END ....criterion=entropy, max_depth=3;, score=0.316 total time=   1.6s\n",
      "[CV 5/5] END ....criterion=entropy, max_depth=3;, score=0.280 total time=   1.6s\n",
      "[CV 1/5] END ....criterion=entropy, max_depth=5;, score=0.336 total time=   2.5s\n",
      "[CV 2/5] END ....criterion=entropy, max_depth=5;, score=0.370 total time=   2.6s\n",
      "[CV 3/5] END ....criterion=entropy, max_depth=5;, score=0.356 total time=   2.5s\n",
      "[CV 4/5] END ....criterion=entropy, max_depth=5;, score=0.366 total time=   2.5s\n",
      "[CV 5/5] END ....criterion=entropy, max_depth=5;, score=0.331 total time=   2.5s\n",
      "[CV 1/5] END ....criterion=entropy, max_depth=7;, score=0.345 total time=   3.3s\n",
      "[CV 2/5] END ....criterion=entropy, max_depth=7;, score=0.372 total time=   3.3s\n",
      "[CV 3/5] END ....criterion=entropy, max_depth=7;, score=0.385 total time=   3.3s\n",
      "[CV 4/5] END ....criterion=entropy, max_depth=7;, score=0.407 total time=   3.3s\n",
      "[CV 5/5] END ....criterion=entropy, max_depth=7;, score=0.354 total time=   3.3s\n",
      "[CV 1/5] END ....criterion=entropy, max_depth=9;, score=0.386 total time=   3.9s\n",
      "[CV 2/5] END ....criterion=entropy, max_depth=9;, score=0.394 total time=   3.9s\n",
      "[CV 3/5] END ....criterion=entropy, max_depth=9;, score=0.400 total time=   3.9s\n",
      "[CV 4/5] END ....criterion=entropy, max_depth=9;, score=0.400 total time=   3.9s\n",
      "[CV 5/5] END ....criterion=entropy, max_depth=9;, score=0.379 total time=   3.9s\n",
      "[CV 1/5] END ...criterion=entropy, max_depth=11;, score=0.375 total time=   4.3s\n",
      "[CV 2/5] END ...criterion=entropy, max_depth=11;, score=0.385 total time=   4.2s\n",
      "[CV 3/5] END ...criterion=entropy, max_depth=11;, score=0.384 total time=   4.2s\n",
      "[CV 4/5] END ...criterion=entropy, max_depth=11;, score=0.400 total time=   4.3s\n",
      "[CV 5/5] END ...criterion=entropy, max_depth=11;, score=0.397 total time=   4.2s\n",
      "[CV 1/5] END ...criterion=entropy, max_depth=13;, score=0.385 total time=   4.4s\n",
      "[CV 2/5] END ...criterion=entropy, max_depth=13;, score=0.391 total time=   4.3s\n",
      "[CV 3/5] END ...criterion=entropy, max_depth=13;, score=0.397 total time=   4.4s\n",
      "[CV 4/5] END ...criterion=entropy, max_depth=13;, score=0.403 total time=   4.4s\n",
      "[CV 5/5] END ...criterion=entropy, max_depth=13;, score=0.385 total time=   4.4s\n",
      "[CV 1/5] END ...criterion=log_loss, max_depth=3;, score=0.308 total time=   1.6s\n",
      "[CV 2/5] END ...criterion=log_loss, max_depth=3;, score=0.334 total time=   1.6s\n",
      "[CV 3/5] END ...criterion=log_loss, max_depth=3;, score=0.318 total time=   1.6s\n",
      "[CV 4/5] END ...criterion=log_loss, max_depth=3;, score=0.338 total time=   1.6s\n",
      "[CV 5/5] END ...criterion=log_loss, max_depth=3;, score=0.303 total time=   1.6s\n",
      "[CV 1/5] END ...criterion=log_loss, max_depth=5;, score=0.354 total time=   2.5s\n",
      "[CV 2/5] END ...criterion=log_loss, max_depth=5;, score=0.367 total time=   2.5s\n",
      "[CV 3/5] END ...criterion=log_loss, max_depth=5;, score=0.366 total time=   2.5s\n",
      "[CV 4/5] END ...criterion=log_loss, max_depth=5;, score=0.357 total time=   2.5s\n",
      "[CV 5/5] END ...criterion=log_loss, max_depth=5;, score=0.333 total time=   2.5s\n",
      "[CV 1/5] END ...criterion=log_loss, max_depth=7;, score=0.375 total time=   3.3s\n",
      "[CV 2/5] END ...criterion=log_loss, max_depth=7;, score=0.385 total time=   3.3s\n",
      "[CV 3/5] END ...criterion=log_loss, max_depth=7;, score=0.364 total time=   3.3s\n",
      "[CV 4/5] END ...criterion=log_loss, max_depth=7;, score=0.387 total time=   3.3s\n",
      "[CV 5/5] END ...criterion=log_loss, max_depth=7;, score=0.380 total time=   3.3s\n",
      "[CV 1/5] END ...criterion=log_loss, max_depth=9;, score=0.372 total time=   3.9s\n",
      "[CV 2/5] END ...criterion=log_loss, max_depth=9;, score=0.381 total time=   3.9s\n",
      "[CV 3/5] END ...criterion=log_loss, max_depth=9;, score=0.374 total time=   3.9s\n",
      "[CV 4/5] END ...criterion=log_loss, max_depth=9;, score=0.384 total time=   3.9s\n",
      "[CV 5/5] END ...criterion=log_loss, max_depth=9;, score=0.380 total time=   3.9s\n",
      "[CV 1/5] END ..criterion=log_loss, max_depth=11;, score=0.390 total time=   4.3s\n",
      "[CV 2/5] END ..criterion=log_loss, max_depth=11;, score=0.370 total time=   4.2s\n",
      "[CV 3/5] END ..criterion=log_loss, max_depth=11;, score=0.379 total time=   4.3s\n",
      "[CV 4/5] END ..criterion=log_loss, max_depth=11;, score=0.390 total time=   4.3s\n",
      "[CV 5/5] END ..criterion=log_loss, max_depth=11;, score=0.392 total time=   4.2s\n",
      "[CV 1/5] END ..criterion=log_loss, max_depth=13;, score=0.372 total time=   4.4s\n",
      "[CV 2/5] END ..criterion=log_loss, max_depth=13;, score=0.427 total time=   4.4s\n",
      "[CV 3/5] END ..criterion=log_loss, max_depth=13;, score=0.387 total time=   4.4s\n",
      "[CV 4/5] END ..criterion=log_loss, max_depth=13;, score=0.413 total time=   4.4s\n",
      "[CV 5/5] END ..criterion=log_loss, max_depth=13;, score=0.367 total time=   4.4s\n"
     ]
    },
    {
     "data": {
      "text/html": [
       "<style>#sk-container-id-8 {color: black;background-color: white;}#sk-container-id-8 pre{padding: 0;}#sk-container-id-8 div.sk-toggleable {background-color: white;}#sk-container-id-8 label.sk-toggleable__label {cursor: pointer;display: block;width: 100%;margin-bottom: 0;padding: 0.3em;box-sizing: border-box;text-align: center;}#sk-container-id-8 label.sk-toggleable__label-arrow:before {content: \"▸\";float: left;margin-right: 0.25em;color: #696969;}#sk-container-id-8 label.sk-toggleable__label-arrow:hover:before {color: black;}#sk-container-id-8 div.sk-estimator:hover label.sk-toggleable__label-arrow:before {color: black;}#sk-container-id-8 div.sk-toggleable__content {max-height: 0;max-width: 0;overflow: hidden;text-align: left;background-color: #f0f8ff;}#sk-container-id-8 div.sk-toggleable__content pre {margin: 0.2em;color: black;border-radius: 0.25em;background-color: #f0f8ff;}#sk-container-id-8 input.sk-toggleable__control:checked~div.sk-toggleable__content {max-height: 200px;max-width: 100%;overflow: auto;}#sk-container-id-8 input.sk-toggleable__control:checked~label.sk-toggleable__label-arrow:before {content: \"▾\";}#sk-container-id-8 div.sk-estimator input.sk-toggleable__control:checked~label.sk-toggleable__label {background-color: #d4ebff;}#sk-container-id-8 div.sk-label input.sk-toggleable__control:checked~label.sk-toggleable__label {background-color: #d4ebff;}#sk-container-id-8 input.sk-hidden--visually {border: 0;clip: rect(1px 1px 1px 1px);clip: rect(1px, 1px, 1px, 1px);height: 1px;margin: -1px;overflow: hidden;padding: 0;position: absolute;width: 1px;}#sk-container-id-8 div.sk-estimator {font-family: monospace;background-color: #f0f8ff;border: 1px dotted black;border-radius: 0.25em;box-sizing: border-box;margin-bottom: 0.5em;}#sk-container-id-8 div.sk-estimator:hover {background-color: #d4ebff;}#sk-container-id-8 div.sk-parallel-item::after {content: \"\";width: 100%;border-bottom: 1px solid gray;flex-grow: 1;}#sk-container-id-8 div.sk-label:hover label.sk-toggleable__label {background-color: #d4ebff;}#sk-container-id-8 div.sk-serial::before {content: \"\";position: absolute;border-left: 1px solid gray;box-sizing: border-box;top: 0;bottom: 0;left: 50%;z-index: 0;}#sk-container-id-8 div.sk-serial {display: flex;flex-direction: column;align-items: center;background-color: white;padding-right: 0.2em;padding-left: 0.2em;position: relative;}#sk-container-id-8 div.sk-item {position: relative;z-index: 1;}#sk-container-id-8 div.sk-parallel {display: flex;align-items: stretch;justify-content: center;background-color: white;position: relative;}#sk-container-id-8 div.sk-item::before, #sk-container-id-8 div.sk-parallel-item::before {content: \"\";position: absolute;border-left: 1px solid gray;box-sizing: border-box;top: 0;bottom: 0;left: 50%;z-index: -1;}#sk-container-id-8 div.sk-parallel-item {display: flex;flex-direction: column;z-index: 1;position: relative;background-color: white;}#sk-container-id-8 div.sk-parallel-item:first-child::after {align-self: flex-end;width: 50%;}#sk-container-id-8 div.sk-parallel-item:last-child::after {align-self: flex-start;width: 50%;}#sk-container-id-8 div.sk-parallel-item:only-child::after {width: 0;}#sk-container-id-8 div.sk-dashed-wrapped {border: 1px dashed gray;margin: 0 0.4em 0.5em 0.4em;box-sizing: border-box;padding-bottom: 0.4em;background-color: white;}#sk-container-id-8 div.sk-label label {font-family: monospace;font-weight: bold;display: inline-block;line-height: 1.2em;}#sk-container-id-8 div.sk-label-container {text-align: center;}#sk-container-id-8 div.sk-container {/* jupyter's `normalize.less` sets `[hidden] { display: none; }` but bootstrap.min.css set `[hidden] { display: none !important; }` so we also need the `!important` here to be able to override the default hidden behavior on the sphinx rendered scikit-learn.org. See: https://github.com/scikit-learn/scikit-learn/issues/21755 */display: inline-block !important;position: relative;}#sk-container-id-8 div.sk-text-repr-fallback {display: none;}</style><div id=\"sk-container-id-8\" class=\"sk-top-container\"><div class=\"sk-text-repr-fallback\"><pre>GridSearchCV(estimator=RandomForestClassifier(),\n",
       "             param_grid={&#x27;criterion&#x27;: [&#x27;gini&#x27;, &#x27;entropy&#x27;, &#x27;log_loss&#x27;],\n",
       "                         &#x27;max_depth&#x27;: [3, 5, 7, 9, 11, 13]},\n",
       "             verbose=3)</pre><b>In a Jupyter environment, please rerun this cell to show the HTML representation or trust the notebook. <br />On GitHub, the HTML representation is unable to render, please try loading this page with nbviewer.org.</b></div><div class=\"sk-container\" hidden><div class=\"sk-item sk-dashed-wrapped\"><div class=\"sk-label-container\"><div class=\"sk-label sk-toggleable\"><input class=\"sk-toggleable__control sk-hidden--visually\" id=\"sk-estimator-id-16\" type=\"checkbox\" ><label for=\"sk-estimator-id-16\" class=\"sk-toggleable__label sk-toggleable__label-arrow\">GridSearchCV</label><div class=\"sk-toggleable__content\"><pre>GridSearchCV(estimator=RandomForestClassifier(),\n",
       "             param_grid={&#x27;criterion&#x27;: [&#x27;gini&#x27;, &#x27;entropy&#x27;, &#x27;log_loss&#x27;],\n",
       "                         &#x27;max_depth&#x27;: [3, 5, 7, 9, 11, 13]},\n",
       "             verbose=3)</pre></div></div></div><div class=\"sk-parallel\"><div class=\"sk-parallel-item\"><div class=\"sk-item\"><div class=\"sk-label-container\"><div class=\"sk-label sk-toggleable\"><input class=\"sk-toggleable__control sk-hidden--visually\" id=\"sk-estimator-id-17\" type=\"checkbox\" ><label for=\"sk-estimator-id-17\" class=\"sk-toggleable__label sk-toggleable__label-arrow\">estimator: RandomForestClassifier</label><div class=\"sk-toggleable__content\"><pre>RandomForestClassifier()</pre></div></div></div><div class=\"sk-serial\"><div class=\"sk-item\"><div class=\"sk-estimator sk-toggleable\"><input class=\"sk-toggleable__control sk-hidden--visually\" id=\"sk-estimator-id-18\" type=\"checkbox\" ><label for=\"sk-estimator-id-18\" class=\"sk-toggleable__label sk-toggleable__label-arrow\">RandomForestClassifier</label><div class=\"sk-toggleable__content\"><pre>RandomForestClassifier()</pre></div></div></div></div></div></div></div></div></div></div>"
      ],
      "text/plain": [
       "GridSearchCV(estimator=RandomForestClassifier(),\n",
       "             param_grid={'criterion': ['gini', 'entropy', 'log_loss'],\n",
       "                         'max_depth': [3, 5, 7, 9, 11, 13]},\n",
       "             verbose=3)"
      ]
     },
     "execution_count": 176,
     "metadata": {},
     "output_type": "execute_result"
    }
   ],
   "source": [
    "# Best parameter for Random Forest Classifier\n",
    "param_grid = {'max_depth': [3, 5, 7, 9, 11, 13],\n",
    "            'criterion': ['gini', 'entropy', 'log_loss']}\n",
    "\n",
    "grid = GridSearchCV(RandomForestClassifier(), param_grid, verbose=3)\n",
    "grid.fit(X_train, y_train)"
   ]
  },
  {
   "cell_type": "code",
   "execution_count": 177,
   "metadata": {},
   "outputs": [
    {
     "name": "stdout",
     "output_type": "stream",
     "text": [
      "{'criterion': 'log_loss', 'max_depth': 13}\n",
      "RandomForestClassifier(criterion='log_loss', max_depth=13)\n"
     ]
    }
   ],
   "source": [
    "print(grid.best_params_)\n",
    "print(grid.best_estimator_)"
   ]
  },
  {
   "cell_type": "code",
   "execution_count": 178,
   "metadata": {},
   "outputs": [
    {
     "data": {
      "text/plain": [
       "(1.0, 0.4041184041184041)"
      ]
     },
     "execution_count": 178,
     "metadata": {},
     "output_type": "execute_result"
    }
   ],
   "source": [
    "accuracy(grid, X_train, y_train), accuracy(grid, X_test, y_test)"
   ]
  },
  {
   "cell_type": "code",
   "execution_count": 179,
   "metadata": {},
   "outputs": [],
   "source": [
    "result = pd.DataFrame({\n",
    "    'ML Model': models,\n",
    "    'Train Accuracy': train_accu,\n",
    "    'Test Accuracy': test_accu,\n",
    "})"
   ]
  },
  {
   "cell_type": "code",
   "execution_count": 180,
   "metadata": {},
   "outputs": [
    {
     "data": {
      "text/html": [
       "<div>\n",
       "<style scoped>\n",
       "    .dataframe tbody tr th:only-of-type {\n",
       "        vertical-align: middle;\n",
       "    }\n",
       "\n",
       "    .dataframe tbody tr th {\n",
       "        vertical-align: top;\n",
       "    }\n",
       "\n",
       "    .dataframe thead th {\n",
       "        text-align: right;\n",
       "    }\n",
       "</style>\n",
       "<table border=\"1\" class=\"dataframe\">\n",
       "  <thead>\n",
       "    <tr style=\"text-align: right;\">\n",
       "      <th></th>\n",
       "      <th>ML Model</th>\n",
       "      <th>Train Accuracy</th>\n",
       "      <th>Test Accuracy</th>\n",
       "    </tr>\n",
       "  </thead>\n",
       "  <tbody>\n",
       "    <tr>\n",
       "      <th>0</th>\n",
       "      <td>DecisionTreeClassifier(max_depth=9, random_sta...</td>\n",
       "      <td>0.627130</td>\n",
       "      <td>0.213642</td>\n",
       "    </tr>\n",
       "    <tr>\n",
       "      <th>1</th>\n",
       "      <td>DecisionTreeClassifier(max_depth=7, random_sta...</td>\n",
       "      <td>0.466907</td>\n",
       "      <td>0.234234</td>\n",
       "    </tr>\n",
       "    <tr>\n",
       "      <th>2</th>\n",
       "      <td>DecisionTreeClassifier(max_depth=11, random_st...</td>\n",
       "      <td>0.794561</td>\n",
       "      <td>0.216216</td>\n",
       "    </tr>\n",
       "    <tr>\n",
       "      <th>3</th>\n",
       "      <td>KNeighborsClassifier(n_neighbors=9)</td>\n",
       "      <td>0.471494</td>\n",
       "      <td>0.334620</td>\n",
       "    </tr>\n",
       "    <tr>\n",
       "      <th>4</th>\n",
       "      <td>KNeighborsClassifier(n_neighbors=7)</td>\n",
       "      <td>0.499017</td>\n",
       "      <td>0.337194</td>\n",
       "    </tr>\n",
       "    <tr>\n",
       "      <th>5</th>\n",
       "      <td>KNeighborsClassifier()</td>\n",
       "      <td>0.541612</td>\n",
       "      <td>0.328185</td>\n",
       "    </tr>\n",
       "    <tr>\n",
       "      <th>6</th>\n",
       "      <td>SVC(C=1, gamma=1, kernel='linear')</td>\n",
       "      <td>0.597313</td>\n",
       "      <td>0.365508</td>\n",
       "    </tr>\n",
       "    <tr>\n",
       "      <th>7</th>\n",
       "      <td>SVC(C=10, gamma=1, kernel='linear')</td>\n",
       "      <td>0.737549</td>\n",
       "      <td>0.339768</td>\n",
       "    </tr>\n",
       "    <tr>\n",
       "      <th>8</th>\n",
       "      <td>SVC(C=100, gamma=1, kernel='linear')</td>\n",
       "      <td>0.930210</td>\n",
       "      <td>0.294723</td>\n",
       "    </tr>\n",
       "    <tr>\n",
       "      <th>9</th>\n",
       "      <td>SVC(C=1000, gamma=1, kernel='linear')</td>\n",
       "      <td>1.000000</td>\n",
       "      <td>0.289575</td>\n",
       "    </tr>\n",
       "    <tr>\n",
       "      <th>10</th>\n",
       "      <td>GridSearchCV(estimator=SVC(),\\n             pa...</td>\n",
       "      <td>1.000000</td>\n",
       "      <td>0.447876</td>\n",
       "    </tr>\n",
       "    <tr>\n",
       "      <th>11</th>\n",
       "      <td>SVC(C=100, gamma=0.1)</td>\n",
       "      <td>1.000000</td>\n",
       "      <td>0.447876</td>\n",
       "    </tr>\n",
       "  </tbody>\n",
       "</table>\n",
       "</div>"
      ],
      "text/plain": [
       "                                             ML Model  Train Accuracy  \\\n",
       "0   DecisionTreeClassifier(max_depth=9, random_sta...        0.627130   \n",
       "1   DecisionTreeClassifier(max_depth=7, random_sta...        0.466907   \n",
       "2   DecisionTreeClassifier(max_depth=11, random_st...        0.794561   \n",
       "3                 KNeighborsClassifier(n_neighbors=9)        0.471494   \n",
       "4                 KNeighborsClassifier(n_neighbors=7)        0.499017   \n",
       "5                              KNeighborsClassifier()        0.541612   \n",
       "6                  SVC(C=1, gamma=1, kernel='linear')        0.597313   \n",
       "7                 SVC(C=10, gamma=1, kernel='linear')        0.737549   \n",
       "8                SVC(C=100, gamma=1, kernel='linear')        0.930210   \n",
       "9               SVC(C=1000, gamma=1, kernel='linear')        1.000000   \n",
       "10  GridSearchCV(estimator=SVC(),\\n             pa...        1.000000   \n",
       "11                              SVC(C=100, gamma=0.1)        1.000000   \n",
       "\n",
       "    Test Accuracy  \n",
       "0        0.213642  \n",
       "1        0.234234  \n",
       "2        0.216216  \n",
       "3        0.334620  \n",
       "4        0.337194  \n",
       "5        0.328185  \n",
       "6        0.365508  \n",
       "7        0.339768  \n",
       "8        0.294723  \n",
       "9        0.289575  \n",
       "10       0.447876  \n",
       "11       0.447876  "
      ]
     },
     "execution_count": 180,
     "metadata": {},
     "output_type": "execute_result"
    }
   ],
   "source": [
    "result"
   ]
  },
  {
   "cell_type": "code",
   "execution_count": 187,
   "metadata": {},
   "outputs": [],
   "source": [
    "result.to_html('result.html')"
   ]
  },
  {
   "cell_type": "code",
   "execution_count": null,
   "metadata": {},
   "outputs": [],
   "source": []
  }
 ],
 "metadata": {
  "kernelspec": {
   "display_name": "tensorflow",
   "language": "python",
   "name": "python3"
  },
  "language_info": {
   "codemirror_mode": {
    "name": "ipython",
    "version": 3
   },
   "file_extension": ".py",
   "mimetype": "text/x-python",
   "name": "python",
   "nbconvert_exporter": "python",
   "pygments_lexer": "ipython3",
   "version": "3.10.11"
  }
 },
 "nbformat": 4,
 "nbformat_minor": 2
}
